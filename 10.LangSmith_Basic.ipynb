{
 "cells": [
  {
   "cell_type": "code",
   "execution_count": 1,
   "id": "f18d2fc1",
   "metadata": {},
   "outputs": [],
   "source": [
    "import os\n",
    "from dotenv import load_dotenv\n",
    "from langchain_openai import ChatOpenAI\n",
    "from langchain_core.prompts import (\n",
    "    ChatPromptTemplate,\n",
    "    SystemMessagePromptTemplate,\n",
    "    HumanMessagePromptTemplate,\n",
    ")\n",
    "from langsmith import traceable\n",
    "\n",
    "# LangSmith API Key 설정\n",
    "os.environ[\"LANGSMITH_TRACING\"] = os.getenv(\"LANGSMITH_TRACING\")  # LangSmith 활성화\n",
    "os.environ[\"LANGSMITH_API_KEY\"] = os.getenv(\"LANGSMITH_API_KEY\")  # API Key 불러오기\n",
    "os.environ[\"LANGSMITH_PROJECT\"] = os.getenv(\"LANGSMITH_PROJECT\")   # 프로젝트 이름 설정\n",
    "os.environ[\"LANGSMITH_ENDPOINT\"] = os.getenv(\"LANGSMITH_ENDPOINT\")   # EndPoint 설정\n"
   ]
  },
  {
   "cell_type": "code",
   "execution_count": 2,
   "id": "232133a8",
   "metadata": {},
   "outputs": [
    {
     "name": "stdout",
     "output_type": "stream",
     "text": [
      "\n",
      "🔹 [AI 답변]:\n",
      "LangGraph와 LangChain은 모두 다양한 언어 간 상호작용을 가능하게 하는 인공지능 기술입니다. \n",
      "\n",
      "LangGraph는 각 언어의 문법, 어휘, 의미 정보를 그래프 구조로 나타내어 다양한 언어 간 상호작용을 지원하는 플랫폼입니다. 이를 통해 다국어 대화 시스템을 구축하고 효과적인 언어 번역 및 이해를 제공합니다.\n",
      "\n",
      "반면에 LangChain은 여러 개의 다른 언어 간의 상호작용을 위해 개발된 블록체인 기술을 기반으로 한 플랫폼입니다. LangChain은 이더리움과 같은 블록체인 기술을 활용하여 신뢰성 있는 다국어 커뮤니케이션을 지원하고, 다중 언어 컨텐츠 생성과 국제 거래를 촉진합니다.\n",
      "\n",
      "요약하자면, LangGraph는 언어 자원을 그래프 구조로 표현하여 다국어 상호작용을 지원하는 플랫폼이며, LangChain은 블록체인 기술을 활용하여 다국어 상호작용을 신뢰성 있게 지원하는 플랫폼입니다.\n"
     ]
    }
   ],
   "source": [
    "\n",
    "# LLM 모델 설정 (OpenAI 사용)\n",
    "llm = ChatOpenAI(model=\"gpt-3.5-turbo\")\n",
    "\n",
    "# LangSmith로 실행 추적\n",
    "@traceable(run_type=\"chain\", name=\"Simple_Chain\")\n",
    "def ask_question(question: str):\n",
    "\n",
    "    # 개별 메시지 템플릿 정의\n",
    "    system_message = SystemMessagePromptTemplate.from_template(\n",
    "        \"당신은 유용한 AI 비서입니다.\"\n",
    "    )\n",
    "    user_message = HumanMessagePromptTemplate.from_template(\n",
    "        \"{question}\"\n",
    "    )\n",
    "\n",
    "    chat_prompt = ChatPromptTemplate.from_messages([\n",
    "        system_message,\n",
    "        user_message,\n",
    "    ])\n",
    "    \n",
    "    messages = chat_prompt.format_messages(question=question)\n",
    "    response = llm.invoke(messages)\n",
    "\n",
    "    return response.content\n",
    "\n",
    "# 테스트 실행\n",
    "question = \"LangGraph와 LangChain의 차이점은 무엇인가요?\"\n",
    "answer = ask_question(question)\n",
    "\n",
    "# 결과 출력\n",
    "print(\"\\n🔹 [AI 답변]:\")\n",
    "print(answer)\n"
   ]
  }
 ],
 "metadata": {
  "kernelspec": {
   "display_name": "langchain-basic-AGfTwH54-py3.12",
   "language": "python",
   "name": "python3"
  },
  "language_info": {
   "codemirror_mode": {
    "name": "ipython",
    "version": 3
   },
   "file_extension": ".py",
   "mimetype": "text/x-python",
   "name": "python",
   "nbconvert_exporter": "python",
   "pygments_lexer": "ipython3",
   "version": "3.12.7"
  }
 },
 "nbformat": 4,
 "nbformat_minor": 5
}
