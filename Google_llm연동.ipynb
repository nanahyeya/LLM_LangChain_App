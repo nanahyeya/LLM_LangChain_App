{
 "cells": [
  {
   "cell_type": "code",
   "execution_count": 2,
   "id": "6f992f74",
   "metadata": {},
   "outputs": [
    {
     "name": "stdout",
     "output_type": "stream",
     "text": [
      "AI\n"
     ]
    }
   ],
   "source": [
    "import os\n",
    "from dotenv import load_dotenv\n",
    "\n",
    "load_dotenv()\n",
    "GOOGLE_API_KEY = os.getenv(\"GOOGLE_API_KEY\")\n",
    "print(GOOGLE_API_KEY[:2])"
   ]
  },
  {
   "cell_type": "code",
   "execution_count": 3,
   "id": "8eb241d0",
   "metadata": {},
   "outputs": [
    {
     "name": "stdout",
     "output_type": "stream",
     "text": [
      " Google Gemini Response:\n",
      "LangChain은 대규모 언어 모델(LLM)을 애플리케이션에 통합하기 위한 프레임워크입니다.  단순히 LLM을 호출하는 것을 넘어, 여러 LLM과 다른 유형의 데이터 소스를 연결하고, 메모리 및 체인을 사용하여 복잡한 작업을 수행할 수 있도록 설계되었습니다.  핵심 기능은 다음과 같습니다.\n",
      "\n",
      "* **모듈성:** LangChain은 다양한 LLM, 프로세서, 메모리, 데이터 연결을 모듈화하여 사용자가 필요에 따라 구성 요소를 선택하고 조합할 수 있도록 합니다.  OpenAI, Hugging Face Hub, Google AI 등 다양한 LLM 제공자를 지원합니다.\n",
      "\n",
      "* **체인(Chains):** 여러 구성 요소를 순차적으로 또는 병렬로 연결하여 복잡한 작업을 수행합니다. 예를 들어, 문서를 요약하고, 요약된 내용을 바탕으로 질문에 답하는 체인을 만들 수 있습니다.  다양한 체인 유형(예: 질문 답변 체인, 생성 체인 등)을 제공합니다.\n",
      "\n",
      "* **메모리(Memory):** 이전 상호 작용의 정보를 저장하고 다음 상호 작용에 활용하여 대화형 애플리케이션에서 일관성을 유지합니다.  다양한 메모리 유형(예: 단기 메모리, 장기 메모리 등)을 제공합니다.\n",
      "\n",
      "* **인덱싱 및 검색:**  외부 데이터 소스(예: 문서, 데이터베이스)를 인덱싱하고 검색하여 LLM이 외부 정보를 활용할 수 있도록 합니다.  다양한 인덱싱 및 검색 방법을 지원합니다.\n",
      "\n",
      "* **에이전트(Agents):**  LLM이 외부 도구(예: 검색 엔진, 계산기)를 사용하여 작업을 수행할 수 있도록 합니다.  에이전트는 LLM이 어떤 도구를 사용할지 결정하고, 도구의 결과를 활용하여 작업을 완료합니다.\n",
      "\n",
      "**LangChain의 주요 장점:**\n",
      "\n",
      "* **개발 속도 향상:**  모듈식 디자인과 다양한 구성 요소를 통해 LLM 기반 애플리케이션 개발 속도를 높일 수 있습니다.\n",
      "* **유연성:**  다양한 LLM, 데이터 소스, 구성 요소를 지원하여 다양한 애플리케이션에 적용할 수 있습니다.\n",
      "* **확장성:**  모듈식 디자인을 통해 애플리케이션을 쉽게 확장할 수 있습니다.\n",
      "* **재사용성:**  구성 요소를 재사용하여 새로운 애플리케이션을 빠르게 개발할 수 있습니다.\n",
      "\n",
      "\n",
      "**LangChain의 주요 사용 사례:**\n",
      "\n",
      "* **챗봇 개발:**  대화형 챗봇을 개발하고, 대화의 맥락을 유지하며 일관된 응답을 제공합니다.\n",
      "* **질문 답변 시스템:**  문서 또는 데이터베이스에서 질문에 대한 답을 찾습니다.\n",
      "* **요약 및 번역:**  텍스트를 요약하거나 번역합니다.\n",
      "* **코드 생성:**  프로그래밍 코드를 생성합니다.\n",
      "* **자동화된 작업:**  다양한 작업을 자동화합니다.\n",
      "\n",
      "\n",
      "요약하자면, LangChain은 LLM을 활용하여 다양한 애플리케이션을 구축하는 데 필요한 모든 구성 요소를 제공하는 강력하고 유연한 프레임워크입니다.  LLM을 단순히 사용하는 것을 넘어, 복잡하고 실용적인 애플리케이션을 개발하는 데 도움을 줍니다.\n"
     ]
    }
   ],
   "source": [
    "from langchain_google_genai import ChatGoogleGenerativeAI\n",
    "from langchain_core.prompts import ChatPromptTemplate\n",
    "    \n",
    "# API 키 설정\n",
    "# os.environ[\"GOOGLE_API_KEY\"] = \"your-google-api-key\"\n",
    "\n",
    "# 모델 초기화\n",
    "llm = ChatGoogleGenerativeAI(\n",
    "    model=\"gemini-1.5-flash\",  # 또는 \"gemini-pro-vision\"\n",
    "    temperature=0.3    \n",
    ")\n",
    "\n",
    "# 프롬프트 설정\n",
    "prompt = ChatPromptTemplate.from_messages([\n",
    "    (\"system\", \"당신은 AI 전문가입니다다.\"),\n",
    "    (\"human\", \"{topic}은 무엇인가요?\")\n",
    "])\n",
    "\n",
    "# 체인 실행\n",
    "chain = prompt | llm\n",
    "response = chain.invoke({\"topic\": \"LangChain\"})\n",
    "\n",
    "print(\" Google Gemini Response:\")\n",
    "print(response.content)"
   ]
  }
 ],
 "metadata": {
  "kernelspec": {
   "display_name": "langchain-basic-AGfTwH54-py3.12",
   "language": "python",
   "name": "python3"
  },
  "language_info": {
   "codemirror_mode": {
    "name": "ipython",
    "version": 3
   },
   "file_extension": ".py",
   "mimetype": "text/x-python",
   "name": "python",
   "nbconvert_exporter": "python",
   "pygments_lexer": "ipython3",
   "version": "3.12.7"
  }
 },
 "nbformat": 4,
 "nbformat_minor": 5
}
