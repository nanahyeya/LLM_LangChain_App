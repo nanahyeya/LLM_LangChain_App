{
 "cells": [
  {
   "cell_type": "code",
   "execution_count": 26,
   "id": "dfc6cf69",
   "metadata": {},
   "outputs": [
    {
     "name": "stdout",
     "output_type": "stream",
     "text": [
      "gs\n"
     ]
    }
   ],
   "source": [
    "import os\n",
    "from dotenv import load_dotenv\n",
    "\n",
    "load_dotenv()\n",
    "OPENAI_API_KEY = os.getenv(\"OPENAI_API_KEY\")\n",
    "print(OPENAI_API_KEY[:2])"
   ]
  },
  {
   "cell_type": "code",
   "execution_count": 27,
   "id": "ea7c3014",
   "metadata": {},
   "outputs": [],
   "source": [
    "# poetry add pydantic\n",
    "# %pip install pydantic \n",
    "\n",
    "from langchain_core.prompts import ChatPromptTemplate\n",
    "from langchain.output_parsers import PydanticOutputParser\n",
    "from langchain_openai import ChatOpenAI\n",
    "from langchain.schema import OutputParserException\n",
    "\n",
    "from pydantic import BaseModel, Field\n",
    "from typing import List"
   ]
  },
  {
   "cell_type": "code",
   "execution_count": 42,
   "id": "73318388",
   "metadata": {},
   "outputs": [],
   "source": [
    "# 출력 구조를 정의하는 Pydantic 모델\n",
    "class StudentInfos(BaseModel):\n",
    "    name: str = Field(description=\"이름\")\n",
    "    age: int = Field(description=\"나이\")\n",
    "    major: str  = Field(description=\"전공\")\n",
    "    hobbies: List[str] = Field(description=\"취미\")\n",
    "    goal: str = Field(description=\"목표\")\n",
    "    \n",
    "# Pydantic 출력 파서 초기화\n",
    "parser = PydanticOutputParser(pydantic_object=StudentInfos)\n",
    "format_instructions = parser.get_format_instructions()\n",
    "\n",
    "# 프롬프트 템플릿 설정\n",
    "template = \"\"\"\n",
    "다음 학생의 자기소개에서 이름, 나이, 전공, 취미, 목표를 추출하고 JSON 형식으로 출력하세요.\n",
    "\n",
    "요청: {query}\n",
    "\n",
    "{format_instructions}\n",
    "\"\"\"\n",
    "\n",
    "prompt = ChatPromptTemplate.from_template(template)\n",
    "# 파서의 지시사항을 프롬프트에 주입\n",
    "prompt = prompt.partial(format_instructions=format_instructions)\n",
    "\n"
   ]
  },
  {
   "cell_type": "code",
   "execution_count": 39,
   "id": "15ba787a",
   "metadata": {},
   "outputs": [
    {
     "name": "stdout",
     "output_type": "stream",
     "text": [
      "이름: 김민수\n",
      "나이: 22\n",
      "전공: 컴퓨터공학\n",
      "취미: 게임하기, 영화보기, 코딩\n",
      "목표: 훌륭한 개발자가 되는 것\n"
     ]
    }
   ],
   "source": [
    "# ChatOpenAI 모델 초기화\n",
    "#model = ChatOpenAI(temperature=0.7, model=\"gpt-3.5-turbo\")\n",
    "model = ChatOpenAI(\n",
    "    base_url=\"https://api.groq.com/openai/v1\",  # Groq API 엔드포인트\n",
    "    model=\"meta-llama/llama-4-scout-17b-16e-instruct\",\n",
    "    temperature=0.7\n",
    ")\n",
    "\n",
    "# 체인 구성 및 실행\n",
    "query =  \"안녕하세요! 저는 김민수이고 22살입니다. 컴퓨터공학을 전공하고 있어요. 취미로는 게임하기, 영화보기, 코딩을 좋아합니다. 앞으로 훌륭한 개발자가 되는 것이 목표입니다.\"\n",
    "chain = prompt | model | parser\n",
    "output = chain.invoke({\"query\": query})\n",
    "# 결과 출력\n",
    "try:\n",
    "    print(f\"이름: {output.name}\")\n",
    "    print(f\"나이: {output.age}\")\n",
    "    print(f\"전공: {output.major}\")\n",
    "    print(f\"취미: {', '.join(output.hobbies)}\")\n",
    "    print(f\"목표: {output.goal}\")\n",
    "except OutputParserException as e:\n",
    "    print(\"출력 파싱 오류:\", e)\n",
    "    print(\"원본 출력:\", e.output)  # 어떤 출력이 문제였는지 확인"
   ]
  }
 ],
 "metadata": {
  "kernelspec": {
   "display_name": "langchain-basic-AGfTwH54-py3.12",
   "language": "python",
   "name": "python3"
  },
  "language_info": {
   "codemirror_mode": {
    "name": "ipython",
    "version": 3
   },
   "file_extension": ".py",
   "mimetype": "text/x-python",
   "name": "python",
   "nbconvert_exporter": "python",
   "pygments_lexer": "ipython3",
   "version": "3.12.7"
  }
 },
 "nbformat": 4,
 "nbformat_minor": 5
}
