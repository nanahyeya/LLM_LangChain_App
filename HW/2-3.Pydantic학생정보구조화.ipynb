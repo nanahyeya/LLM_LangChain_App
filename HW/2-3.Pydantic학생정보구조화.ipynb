{
 "cells": [
  {
   "cell_type": "code",
   "execution_count": 9,
   "id": "dfc6cf69",
   "metadata": {},
   "outputs": [
    {
     "name": "stdout",
     "output_type": "stream",
     "text": [
      "gs\n"
     ]
    }
   ],
   "source": [
    "import os\n",
    "from dotenv import load_dotenv\n",
    "\n",
    "load_dotenv()\n",
    "OPENAI_API_KEY = os.getenv(\"OPENAI_API_KEY\")\n",
    "print(OPENAI_API_KEY[:2])"
   ]
  },
  {
   "cell_type": "code",
   "execution_count": 10,
   "id": "ea7c3014",
   "metadata": {},
   "outputs": [],
   "source": [
    "# poetry add pydantic\n",
    "# %pip install pydantic \n",
    "\n",
    "from langchain_core.prompts import ChatPromptTemplate\n",
    "from langchain.output_parsers import PydanticOutputParser\n",
    "from langchain_openai import ChatOpenAI\n",
    "from langchain.schema import OutputParserException\n",
    "\n",
    "from pydantic import BaseModel, Field\n",
    "from typing import List\n",
    "import json\n"
   ]
  },
  {
   "cell_type": "code",
   "execution_count": 11,
   "id": "73318388",
   "metadata": {},
   "outputs": [],
   "source": [
    "# 출력 구조를 정의하는 Pydantic 모델\n",
    "class StudentInfos(BaseModel):\n",
    "    name: str = Field(description=\"이름\")\n",
    "    age: int = Field(description=\"나이\")\n",
    "    major: str  = Field(description=\"전공\")\n",
    "    hobbies: List[str] = Field(description=\"취미\")\n",
    "    goal: str = Field(description=\"목표\")\n",
    "    \n",
    "# Pydantic 출력 파서 초기화\n",
    "parser = PydanticOutputParser(pydantic_object=StudentInfos)\n",
    "\n",
    "# 프롬프트 템플릿 설정\n",
    "template = \"\"\"\n",
    "다음 학생의 자기소개에서 정보를 추출하여 구조화 해주세요.\n",
    "\n",
    "자기소개: {introduction}\n",
    "\n",
    "{format_instructions}\n",
    "\n",
    "중요사항:\n",
    "- 이름, 나이, 전공, 취미, 목표를 정확히 추출하세요\n",
    "- 취미는 리스트 형태로 여러 개 추출하세요\n",
    "- 명시되지 않은 정보는 \"정보 없음\"으로 표시하세요\n",
    "\"\"\"\n",
    "\n",
    "prompt = ChatPromptTemplate.from_template(template)\n",
    "# 파서의 지시사항을 프롬프트에 주입\n",
    "prompt = prompt.partial(format_instructions=parser.get_format_instructions())\n",
    "\n"
   ]
  },
  {
   "cell_type": "code",
   "execution_count": 12,
   "id": "15ba787a",
   "metadata": {},
   "outputs": [
    {
     "name": "stdout",
     "output_type": "stream",
     "text": [
      "=== 학생 정보 구조화 시스템 ===\n",
      "\n",
      " 테스트 케이스 1\n",
      "자기소개: 안녕하세요! 저는 김민수이고 22살입니다. 컴퓨터공학을 전공하고 있어요. 취미로는 게임하기, 영화보기, 코딩을 좋아합니다. 앞으로 훌륭한 개발자가 되는 것이 목표입니다.\n",
      "\n",
      " 추출된 정보:\n",
      " 이름: 김민수\n",
      " 나이: 22세\n",
      " 전공: 컴퓨터공학\n",
      " 취미: 게임하기, 영화보기, 코딩\n",
      " 목표: 훌륭한 개발자가 되는 것\n",
      "\n",
      " JSON 형태:\n",
      "{\n",
      "  \"name\": \"김민수\",\n",
      "  \"age\": 22,\n",
      "  \"major\": \"컴퓨터공학\",\n",
      "  \"hobbies\": [\n",
      "    \"게임하기\",\n",
      "    \"영화보기\",\n",
      "    \"코딩\"\n",
      "  ],\n",
      "  \"goal\": \"훌륭한 개발자가 되는 것\"\n",
      "}\n",
      "================================================================================\n",
      "\n",
      " 테스트 케이스 2\n",
      "자기소개: 제 이름은 박지연이고, 올해 20세입니다. 경영학과에 다니고 있고, 독서와 여행, 요리를 즐깁니다. 미래에는 글로벌 기업의 CEO가 되고 싶어요.\n",
      "\n"
     ]
    },
    {
     "name": "stderr",
     "output_type": "stream",
     "text": [
      "C:\\Users\\user\\AppData\\Local\\Temp\\ipykernel_5476\\3585669547.py:51: PydanticDeprecatedSince20: The `dict` method is deprecated; use `model_dump` instead. Deprecated in Pydantic V2.0 to be removed in V3.0. See Pydantic V2 Migration Guide at https://errors.pydantic.dev/2.11/migration/\n",
      "  student_dict = student_info.dict()\n"
     ]
    },
    {
     "name": "stdout",
     "output_type": "stream",
     "text": [
      " 추출된 정보:\n",
      " 이름: 박지연\n",
      " 나이: 20세\n",
      " 전공: 경영학과\n",
      " 취미: 독서, 여행, 요리\n",
      " 목표: 글로벌 기업의 CEO가 되고 싶어요\n",
      "\n",
      " JSON 형태:\n",
      "{\n",
      "  \"name\": \"박지연\",\n",
      "  \"age\": 20,\n",
      "  \"major\": \"경영학과\",\n",
      "  \"hobbies\": [\n",
      "    \"독서\",\n",
      "    \"여행\",\n",
      "    \"요리\"\n",
      "  ],\n",
      "  \"goal\": \"글로벌 기업의 CEO가 되고 싶어요\"\n",
      "}\n",
      "================================================================================\n",
      "\n",
      " 테스트 케이스 3\n",
      "자기소개: 이수진입니다. 나이는 23살이고 미술을 전공하고 있습니다. 그림 그리기, 사진 찍기, 전시회 관람이 취미예요. 유명한 작가가 되어 많은 사람들에게 감동을 주고 싶습니다.\n",
      "\n"
     ]
    },
    {
     "name": "stderr",
     "output_type": "stream",
     "text": [
      "C:\\Users\\user\\AppData\\Local\\Temp\\ipykernel_5476\\3585669547.py:51: PydanticDeprecatedSince20: The `dict` method is deprecated; use `model_dump` instead. Deprecated in Pydantic V2.0 to be removed in V3.0. See Pydantic V2 Migration Guide at https://errors.pydantic.dev/2.11/migration/\n",
      "  student_dict = student_info.dict()\n"
     ]
    },
    {
     "name": "stdout",
     "output_type": "stream",
     "text": [
      " 추출된 정보:\n",
      " 이름: 이수진\n",
      " 나이: 23세\n",
      " 전공: 미술\n",
      " 취미: 그림 그리기, 사진 찍기, 전시회 관람\n",
      " 목표: 유명한 작가가 되어 많은 사람들에게 감동을 주고 싶습니다.\n",
      "\n",
      " JSON 형태:\n",
      "{\n",
      "  \"name\": \"이수진\",\n",
      "  \"age\": 23,\n",
      "  \"major\": \"미술\",\n",
      "  \"hobbies\": [\n",
      "    \"그림 그리기\",\n",
      "    \"사진 찍기\",\n",
      "    \"전시회 관람\"\n",
      "  ],\n",
      "  \"goal\": \"유명한 작가가 되어 많은 사람들에게 감동을 주고 싶습니다.\"\n",
      "}\n",
      "================================================================================\n",
      "\n",
      " 테스트 케이스 4\n",
      "자기소개: 안녕하세요~ 저는 최진우예요. 21살이고 기계공학과 학생입니다. 축구, 농구 같은 운동을 좋아하고 음악 듣기도 즐겨해요. 앞으로 로봇 엔지니어가 되는 게 꿈이에요.\n",
      "\n"
     ]
    },
    {
     "name": "stderr",
     "output_type": "stream",
     "text": [
      "C:\\Users\\user\\AppData\\Local\\Temp\\ipykernel_5476\\3585669547.py:51: PydanticDeprecatedSince20: The `dict` method is deprecated; use `model_dump` instead. Deprecated in Pydantic V2.0 to be removed in V3.0. See Pydantic V2 Migration Guide at https://errors.pydantic.dev/2.11/migration/\n",
      "  student_dict = student_info.dict()\n"
     ]
    },
    {
     "name": "stdout",
     "output_type": "stream",
     "text": [
      " 추출된 정보:\n",
      " 이름: 최진우\n",
      " 나이: 21세\n",
      " 전공: 기계공학과\n",
      " 취미: 축구, 농구, 음악 듣기\n",
      " 목표: 로봇 엔지니어\n",
      "\n",
      " JSON 형태:\n",
      "{\n",
      "  \"name\": \"최진우\",\n",
      "  \"age\": 21,\n",
      "  \"major\": \"기계공학과\",\n",
      "  \"hobbies\": [\n",
      "    \"축구\",\n",
      "    \"농구\",\n",
      "    \"음악 듣기\"\n",
      "  ],\n",
      "  \"goal\": \"로봇 엔지니어\"\n",
      "}\n",
      "================================================================================\n",
      "\n"
     ]
    },
    {
     "name": "stderr",
     "output_type": "stream",
     "text": [
      "C:\\Users\\user\\AppData\\Local\\Temp\\ipykernel_5476\\3585669547.py:51: PydanticDeprecatedSince20: The `dict` method is deprecated; use `model_dump` instead. Deprecated in Pydantic V2.0 to be removed in V3.0. See Pydantic V2 Migration Guide at https://errors.pydantic.dev/2.11/migration/\n",
      "  student_dict = student_info.dict()\n"
     ]
    }
   ],
   "source": [
    "# ChatOpenAI 모델 초기화\n",
    "#model = ChatOpenAI(temperature=0.7, model=\"gpt-3.5-turbo\")\n",
    "model = ChatOpenAI(\n",
    "    base_url=\"https://api.groq.com/openai/v1\",  # Groq API 엔드포인트\n",
    "    model=\"meta-llama/llama-4-scout-17b-16e-instruct\",\n",
    "    temperature=0.7\n",
    ")\n",
    "\n",
    "# 체인 구성 및 실행\n",
    "chain = prompt | model | parser\n",
    "\n",
    "\n",
    "def extract_student_info(introduction_text):\n",
    "    \"\"\"학생 자기소개에서 정보를 추출하는 함수\"\"\"\n",
    "    try:\n",
    "        result = chain.invoke({\"introduction\": introduction_text})\n",
    "        return result, None\n",
    "    except Exception as e:\n",
    "        return None, f\"오류: {str(e)}\"\n",
    "    \n",
    "test_introductions = [\n",
    "    \"안녕하세요! 저는 김민수이고 22살입니다. 컴퓨터공학을 전공하고 있어요. 취미로는 게임하기, 영화보기, 코딩을 좋아합니다. 앞으로 훌륭한 개발자가 되는 것이 목표입니다.\",\n",
    "    \n",
    "    \"제 이름은 박지연이고, 올해 20세입니다. 경영학과에 다니고 있고, 독서와 여행, 요리를 즐깁니다. 미래에는 글로벌 기업의 CEO가 되고 싶어요.\",\n",
    "    \n",
    "    \"이수진입니다. 나이는 23살이고 미술을 전공하고 있습니다. 그림 그리기, 사진 찍기, 전시회 관람이 취미예요. 유명한 작가가 되어 많은 사람들에게 감동을 주고 싶습니다.\",\n",
    "    \n",
    "    \"안녕하세요~ 저는 최진우예요. 21살이고 기계공학과 학생입니다. 축구, 농구 같은 운동을 좋아하고 음악 듣기도 즐겨해요. 앞으로 로봇 엔지니어가 되는 게 꿈이에요.\"\n",
    "]\n",
    "\n",
    "print(\"=== 학생 정보 구조화 시스템 ===\\n\")\n",
    "\n",
    "for i, introduction in enumerate(test_introductions, 1):\n",
    "    print(f\" 테스트 케이스 {i}\")\n",
    "    print(f\"자기소개: {introduction}\")\n",
    "    print()\n",
    "    \n",
    "    # 정보 추출\n",
    "    student_info, error = extract_student_info(introduction)\n",
    "    \n",
    "    if student_info:\n",
    "        print(\" 추출된 정보:\")\n",
    "        print(f\" 이름: {student_info.name}\")\n",
    "        print(f\" 나이: {student_info.age}세\")\n",
    "        print(f\" 전공: {student_info.major}\")\n",
    "        print(f\" 취미: {', '.join(student_info.hobbies)}\")\n",
    "        print(f\" 목표: {student_info.goal}\")\n",
    "        \n",
    "        # JSON 형태로도 출력\n",
    "        print(\"\\n JSON 형태:\")\n",
    "        student_dict = student_info.dict()\n",
    "        print(json.dumps(student_dict, ensure_ascii=False, indent=2))\n",
    "        \n",
    "    else:\n",
    "        print(f\" 추출 실패: {error}\")\n",
    "    \n",
    "    print(\"=\"*80)\n",
    "    print()"
   ]
  }
 ],
 "metadata": {
  "kernelspec": {
   "display_name": "langchain-basic-AGfTwH54-py3.12",
   "language": "python",
   "name": "python3"
  },
  "language_info": {
   "codemirror_mode": {
    "name": "ipython",
    "version": 3
   },
   "file_extension": ".py",
   "mimetype": "text/x-python",
   "name": "python",
   "nbconvert_exporter": "python",
   "pygments_lexer": "ipython3",
   "version": "3.12.7"
  }
 },
 "nbformat": 4,
 "nbformat_minor": 5
}
