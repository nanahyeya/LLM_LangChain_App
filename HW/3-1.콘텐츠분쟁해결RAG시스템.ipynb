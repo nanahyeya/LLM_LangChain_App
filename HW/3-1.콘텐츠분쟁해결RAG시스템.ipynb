{
 "cells": [
  {
   "cell_type": "code",
   "execution_count": 2,
   "id": "5ecdc07f",
   "metadata": {},
   "outputs": [
    {
     "name": "stdout",
     "output_type": "stream",
     "text": [
      "sk\n"
     ]
    }
   ],
   "source": [
    "import os\n",
    "from dotenv import load_dotenv\n",
    "\n",
    "load_dotenv()\n",
    "OPENAI_API_KEY = os.getenv(\"OPENAI_API_KEY\")\n",
    "print(OPENAI_API_KEY[:2])"
   ]
  },
  {
   "cell_type": "markdown",
   "id": "f907e60b",
   "metadata": {},
   "source": [
    "* loader"
   ]
  },
  {
   "cell_type": "code",
   "execution_count": 11,
   "id": "06a1400f",
   "metadata": {},
   "outputs": [],
   "source": [
    "import os\n",
    "import json\n",
    "from langchain_community.document_loaders import PyPDFLoader\n",
    "from langchain_openai import ChatOpenAI,OpenAIEmbeddings\n",
    "from langchain.vectorstores import FAISS\n",
    "from langchain.text_splitter import RecursiveCharacterTextSplitter\n",
    "from pprint import pprint\n",
    "\n",
    "# PDF 파일 경로 설정\n",
    "pdf_filepath = '../data/콘텐츠분쟁해결_사례.pdf'\n",
    "\n",
    "# 파일 존재 여부 확인 (파일이 없으면 오류 발생)\n",
    "if not os.path.exists(pdf_filepath):\n",
    "    raise FileNotFoundError(f\"파일을 찾을 수 없습니다: {pdf_filepath}\")"
   ]
  },
  {
   "cell_type": "code",
   "execution_count": 14,
   "id": "a0d18ab0",
   "metadata": {},
   "outputs": [
    {
     "name": "stdout",
     "output_type": "stream",
     "text": [
      "==> 1. 문서 로딩 → PDF 읽기...\n",
      "  총 109페이지 로드 완료\n"
     ]
    }
   ],
   "source": [
    "from langchain_community.document_loaders import PyPDFLoader\n",
    "from langchain.text_splitter import RecursiveCharacterTextSplitter\n",
    "from langchain_community.vectorstores import FAISS\n",
    "from langchain_openai import OpenAIEmbeddings, ChatOpenAI\n",
    "from langchain.chains import RetrievalQA\n",
    "from langchain.prompts import PromptTemplate\n",
    "\n",
    "print(\"==> 1. 문서 로딩 → PDF 읽기...\")\n",
    "loader = PyPDFLoader('../data/콘텐츠분쟁해결_사례.pdf')\n",
    "documents = loader.load()\n",
    "print(f\"  총 {len(documents)}페이지 로드 완료\")\n"
   ]
  },
  {
   "cell_type": "code",
   "execution_count": 15,
   "id": "a552c5eb",
   "metadata": {},
   "outputs": [
    {
     "name": "stdout",
     "output_type": "stream",
     "text": [
      "==> 2. 문서 분할 → 작은 청크로 나누기\n",
      "  104개 청크 생성 완료\n",
      "  평균 청크 길이: 722자\n"
     ]
    }
   ],
   "source": [
    "\n",
    "print(\"==> 2. 문서 분할 → 작은 청크로 나누기\")\n",
    "pythontext_splitter  = RecursiveCharacterTextSplitter(\n",
    "    chunk_size=1500,        #  법률 사례는 1200-1800자 권장\n",
    "    chunk_overlap=300,      #  사례 맥락 보존을 위해 200-400자\n",
    "    separators=[\n",
    "        \"\\n【사건개요】\",     #  법률 문서 섹션 구분자\n",
    "        \"\\n【쟁점사항】\",     #  쟁점 부분 구분\n",
    "        \"\\n【처리경위】\",     #  처리 과정 구분\n",
    "        \"\\n【처리결과】\",     #  결과 부분 구분\n",
    "        \"\\n\", \"\\n\\n\", \"\\n\", \".\", \" \", \"\"\n",
    "    ]\n",
    ")\n",
    "\n",
    "\n",
    "chunks = pythontext_splitter .split_documents(documents)\n",
    "print(f\"  {len(chunks)}개 청크 생성 완료\")\n",
    "print(f\"  평균 청크 길이: {sum(len(chunk.page_content) for chunk in chunks) / len(chunks):.0f}자\")\n"
   ]
  },
  {
   "cell_type": "code",
   "execution_count": 16,
   "id": "26ac67d8",
   "metadata": {},
   "outputs": [
    {
     "name": "stdout",
     "output_type": "stream",
     "text": [
      "==> 3. 벡터화 → 임베딩으로 변환\n"
     ]
    }
   ],
   "source": [
    "\n",
    "print(\"==> 3. 벡터화 → 임베딩으로 변환\")\n",
    "pythonembeddings = OpenAIEmbeddings(\n",
    "    model=\"text-embedding-3-large\",  #  한국어 법률 용어에 최적\n",
    "    dimensions=1536                  #  고성능 임베딩 차원\n",
    ")\n"
   ]
  },
  {
   "cell_type": "code",
   "execution_count": 18,
   "id": "ae84f86a",
   "metadata": {},
   "outputs": [
    {
     "name": "stdout",
     "output_type": "stream",
     "text": [
      "==> 4. 저장 → FAISS 벡터스토어에 저장\n",
      " FAISS 벡터스토어 생성 완료 (104개 벡터)\n"
     ]
    }
   ],
   "source": [
    "\n",
    "print(\"==> 4. 저장 → FAISS 벡터스토어에 저장\")\n",
    "vectorstore = FAISS.from_documents(chunks, pythonembeddings)\n",
    "print(f\" FAISS 벡터스토어 생성 완료 ({len(chunks)}개 벡터)\")\n",
    "\n"
   ]
  },
  {
   "cell_type": "code",
   "execution_count": 19,
   "id": "0228584e",
   "metadata": {},
   "outputs": [
    {
     "name": "stdout",
     "output_type": "stream",
     "text": [
      "===> 5. 검색 → 질문과 유사한 문서 찾기\n",
      " Retriever 설정 완료\n"
     ]
    }
   ],
   "source": [
    "\n",
    "print(\"===> 5. 검색 → 질문과 유사한 문서 찾기\")\n",
    "pythonretriever = vectorstore.as_retriever(\n",
    "    search_type=\"similarity\",        #  또는 \"mmr\" (다양성 고려시)\n",
    "    search_kwargs={\"k\": 5}          #  상위 5개 관련 사례 검색\n",
    ")\n",
    "\n",
    "print(\" Retriever 설정 완료\")\n"
   ]
  },
  {
   "cell_type": "code",
   "execution_count": 20,
   "id": "1c9e6990",
   "metadata": {},
   "outputs": [
    {
     "name": "stdout",
     "output_type": "stream",
     "text": [
      "===> 6. 생성 → LLM으로 답변 생성\n"
     ]
    }
   ],
   "source": [
    "\n",
    "print(\"===> 6. 생성 → LLM으로 답변 생성\")\n",
    "pythonllm = ChatOpenAI(\n",
    "    model=\"gpt-4o\",                 #  또는 \"gpt-4o-mini\" (경제적)\n",
    "    temperature=0.2,                #  법률 조언은 정확성 중시\n",
    "    max_tokens=2000                 #  충분한 답변 길이\n",
    ")\n"
   ]
  },
  {
   "cell_type": "code",
   "execution_count": 22,
   "id": "b8d4f8e8",
   "metadata": {},
   "outputs": [
    {
     "name": "stdout",
     "output_type": "stream",
     "text": [
      "===> 7. 법률 자문 프롬프트 작성\n",
      " 프롬프트 설정 완료\n"
     ]
    }
   ],
   "source": [
    "print(\"===> 7. 법률 자문 프롬프트 작성\")\n",
    "pythonprompt_template = \"\"\"\n",
    "당신은 콘텐츠 분야 전문 법률 자문사입니다. \n",
    "아래 분쟁조정 사례들을 바탕으로 정확하고 전문적인 법률 조언을 제공해주세요.\n",
    "\n",
    "관련 분쟁사례:\n",
    "{context}\n",
    "\n",
    "상담 내용: {question}\n",
    "\n",
    "답변 가이드라인:\n",
    "1. 제시된 사례들을 근거로 답변하세요                    # 사례 기반 답변\n",
    "2. 관련 법령이나 조항이 있다면 명시하세요               # 법적 근거 제시\n",
    "3. 비슷한 사례의 처리경위와 결과를 참고하여 설명하세요    # 판례 참조\n",
    "4. 실무적 해결방안을 단계별로 제시하세요               #  실무 가이드\n",
    "5. 사례에 없는 내용은 \"제시된 사례집에서는 확인할 수 없습니다\"라고 명시하세요  #  한계 인정\n",
    "\n",
    "전문 법률 조언:\"\"\"\n",
    "\n",
    "\n",
    "prompt = PromptTemplate(\n",
    "    template=pythonprompt_template,\n",
    "    input_variables=[\"context\", \"question\"]\n",
    ")\n",
    "print(\" 프롬프트 설정 완료\")\n"
   ]
  },
  {
   "cell_type": "code",
   "execution_count": null,
   "id": "ec292cf9",
   "metadata": {},
   "outputs": [
    {
     "name": "stdout",
     "output_type": "stream",
     "text": [
      "\n",
      " ===> 8.  QA 체인 생성...\n"
     ]
    }
   ],
   "source": [
    "\n",
    "# ===================================\n",
    "# 8. QA 체인 생성\n",
    "# ===================================\n",
    "print(\"\\n ===> 8.  QA 체인 생성...\")\n",
    "\n",
    "pythonqa_chain = RetrievalQA.from_chain_type(\n",
    "    llm=pythonllm,                        #  위에서 설정한 LLM\n",
    "    chain_type=\"stuff\",             #  문서들을 하나로 합쳐서 처리\n",
    "    retriever=pythonretriever,            #  위에서 설정한 검색기\n",
    "    chain_type_kwargs={\"prompt\": prompt},  #  법률 자문 프롬프트\n",
    "    return_source_documents=True    #  참조 문서도 함께 반환\n",
    ")\n"
   ]
  },
  {
   "cell_type": "code",
   "execution_count": 24,
   "id": "e6a830eb",
   "metadata": {},
   "outputs": [
    {
     "name": "stdout",
     "output_type": "stream",
     "text": [
      "\n",
      "============================================================\n",
      " RAG 시스템 테스트\n",
      "============================================================\n"
     ]
    }
   ],
   "source": [
    "\n",
    "# ===================================\n",
    "# 9. 테스트 질문 작성\n",
    "# ===================================\n",
    "pythontest_questions = [\n",
    "    \"온라인 게임에서 시스템 오류로 아이템이 사라졌는데, 게임회사가 복구를 거부하고 있습니다. 어떻게 해결할 수 있나요?\",\n",
    "    \"인터넷 강의를 중도 해지하려고 하는데 과도한 위약금을 요구받고 있습니다. 정당한가요?\",\n",
    "    \"무료체험 후 자동으로 유료전환되어 요금이 청구되었습니다. 환불 가능한가요?\",\n",
    "    \"미성년자가 부모 동의 없이 게임 아이템을 구매했습니다. 환불받을 수 있는 방법이 있나요?\",\n",
    "    \"온라인 교육 서비스가 광고와 다르게 제공되어 계약을 해지하고 싶습니다. 가능한가요?\"\n",
    "]\n",
    "\n",
    "\n",
    "print(\"\\n\" + \"=\" * 60)\n",
    "print(\" RAG 시스템 테스트\")\n",
    "print(\"=\" * 60)\n"
   ]
  },
  {
   "cell_type": "code",
   "execution_count": null,
   "id": "1c312b1e",
   "metadata": {},
   "outputs": [
    {
     "name": "stdout",
     "output_type": "stream",
     "text": [
      "\n",
      "【테스트 1/5】\n",
      " 질문: 온라인 게임에서 시스템 오류로 아이템이 사라졌는데, 게임회사가 복구를 거부하고 있습니다. 어떻게 해결할 수 있나요?\n",
      " 답변 생성 중...\n",
      "\n",
      " 답변:\n",
      "--------------------------------------------------\n",
      "온라인 게임에서 시스템 오류로 인해 아이템이 사라진 경우, 게임회사가 복구를 거부하는 상황에 대한 법률 조언을 드리겠습니다.\n",
      "\n",
      "1. **사례 기반 답변**:\n",
      "   - 제시된 사례 중, 시스템 오류로 인한 아이템 소실에 대한 사례(사례 1-가-1, 2006 및 2009)를 참고할 수 있습니다. 이 사례들에서는 시스템 오류로 인해 아이템이 소실되었으나, 게임 회사는 계정 명의자와의 문제 또는 시스템 오류가 발생하지 않았다는 이유로 복구를 거부하였습니다.\n",
      "\n",
      "2. **법적 근거 제시**:\n",
      "   - 일반적으로 게임 회사의 이용약관에 따라 시스템 오류로 인한 피해 보상 여부가 결정됩니다. 따라서 이용약관을 검토하여 시스템 오류로 인한 복구 조항이 있는지 확인하는 것이 중요합니다.\n",
      "   - 민법 제250조와 제251조는 도난 또는 유실물에 대한 반환 청구에 관한 규정을 두고 있으나, 이는 주로 물리적 재산에 대한 규정이며, 디지털 아이템의 경우에는 적용이 제한적일 수 있습니다.\n",
      "\n",
      "3. **판례 참조**:\n",
      "   - 사례 1-가-1(2009)에서는 시스템 오류로 인한 게임머니 소실이 주장되었으나, 당시 유사한 불만이 접수되지 않았고, 사용 내역이 정상적이었기 때문에 시스템 오류로 보기 어렵다고 판단되었습니다.\n",
      "   - 이러한 판례를 참고할 때, 시스템 오류가 실제로 발생했음을 입증하는 것이 중요합니다.\n",
      "\n",
      "4. **실무 가이드**:\n",
      "   - **1단계**: 게임 회사의 고객센터에 공식적으로 문의하여 시스템 오류로 인한 아이템 소실에 대한 복구 요청을 합니다. 이때, 관련 증거(예: 오류 발생 시점의 스크린샷, 로그 기록 등)를 함께 제출합니다.\n",
      "   - **2단계**: 게임 회사의 이용약관을 검토하여 시스템 오류에 대한 복구 정책이 있는지 확인합니다.\n",
      "   - **3단계**: 만약 게임 회사가 복구를 거부할 경우, 한국소비자원 또는 관련 기관에 중재를 요청할 수 있습니다.\n",
      "   - **4단계**: 법적 조치를 고려할 경우, 변호사와 상담하여 소송 가능성을 검토합니다.\n",
      "\n",
      "5. **한계 인정**:\n",
      "   - 제시된 사례집에서는 시스템 오류로 인한 아이템 소실에 대한 법적 판결이나 구체적인 법령 적용 사례는 확인할 수 없습니다. 추가적인 법적 조언이 필요하다면, 전문 변호사와의 상담을 권장합니다.\n",
      "\n",
      "이러한 단계들을 통해 문제를 해결할 수 있기를 바랍니다. 추가적인 법적 조언이 필요하다면, 관련 분야의 전문 변호사와 상담하시기 바랍니다.\n",
      "\n",
      " 참조 문서:\n",
      "   1. 페이지 8: 1. 게임 3 게임1 ■ 1-가-1) 한국소비자원 조정전 상담사례2006_시스템 오류로 소멸된 아이템 복구 요구【사건개요】신청인은 피신청인이 제...\n",
      "   2. 페이지 28: 1. 게임 23 ■ 1-가-1) 한국소비자원 조정전 상담사례2009_시스템 오류로 인한 손실 아이템 복구 요구【사건개요】신청인은 2009. 9....\n",
      "   3. 페이지 30: 1. 게임 25 ■ 1-가-1) 한국소비자원 조정전 상담사례2009_해킹으로 손실된 아이템 복구 요청【사건개요】피청구인이 제공하는 게임서비스 가...\n",
      "\n",
      "----------------------------------------\n",
      "\n",
      "【테스트 2/5】\n",
      " 질문: 인터넷 강의를 중도 해지하려고 하는데 과도한 위약금을 요구받고 있습니다. 정당한가요?\n",
      " 답변 생성 중...\n"
     ]
    }
   ],
   "source": [
    "\n",
    "# ===================================\n",
    "# 10. 질문 및 답변 실행\n",
    "# ===================================\n",
    "for i, question in enumerate(pythontest_questions, 1):\n",
    "    print(f\"\\n【테스트 {i}/5】\")\n",
    "    print(f\" 질문: {question}\")\n",
    "    print(\" 답변 생성 중...\")\n",
    "    \n",
    "    # RAG 실행\n",
    "    result = pythonqa_chain.invoke({\"query\": question})\n",
    "    answer = result[\"result\"]\n",
    "    source_docs = result[\"source_documents\"]\n",
    "    \n",
    "    print(f\"\\n 답변:\")\n",
    "    print(\"-\" * 50)\n",
    "    print(answer)\n",
    "    \n",
    "    # 참조 문서 정보\n",
    "    print(f\"\\n 참조 문서:\")\n",
    "    for j, doc in enumerate(source_docs[:3], 1):\n",
    "        page = doc.metadata.get('page', 'N/A')\n",
    "        preview = doc.page_content[:80].replace('\\n', ' ')\n",
    "        print(f\"   {j}. 페이지 {page}: {preview}...\")\n",
    "    \n",
    "    print(\"\\n\" + \"-\" * 40)"
   ]
  },
  {
   "cell_type": "code",
   "execution_count": null,
   "id": "e9822582",
   "metadata": {},
   "outputs": [],
   "source": [
    "# ===================================\n",
    "# 11. 분쟁 유형 분류 함수\n",
    "# ===================================\n",
    "\n",
    "def classify_dispute_type(query):\n",
    "    game_keywords = [\"게임\", \"아이템\", \"계정\", \"캐릭터\", \"레벨\", \"길드\", \"온라인게임\"]\n",
    "    elearning_keywords = [\"강의\", \"온라인교육\", \"이러닝\", \"수강\", \"환불\", \"화상교육\"]\n",
    "    web_keywords = [\"웹사이트\", \"무료체험\", \"자동결제\", \"구독\", \"사이트\"]\n",
    "    \n",
    "    query_lower = query.lower()\n",
    "    \n",
    "    if any(keyword in query_lower for keyword in game_keywords):\n",
    "        return \"게임\"\n",
    "    elif any(keyword in query_lower for keyword in elearning_keywords):\n",
    "        return \"이러닝\"\n",
    "    elif any(keyword in query_lower for keyword in web_keywords):\n",
    "        return \"웹콘텐츠\"\n",
    "    else:\n",
    "        return \"기타\"\n"
   ]
  }
 ],
 "metadata": {
  "kernelspec": {
   "display_name": "langchain-basic-AGfTwH54-py3.12",
   "language": "python",
   "name": "python3"
  },
  "language_info": {
   "codemirror_mode": {
    "name": "ipython",
    "version": 3
   },
   "file_extension": ".py",
   "mimetype": "text/x-python",
   "name": "python",
   "nbconvert_exporter": "python",
   "pygments_lexer": "ipython3",
   "version": "3.12.7"
  }
 },
 "nbformat": 4,
 "nbformat_minor": 5
}
