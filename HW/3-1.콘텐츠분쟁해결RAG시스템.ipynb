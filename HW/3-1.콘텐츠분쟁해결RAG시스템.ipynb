{
 "cells": [
  {
   "cell_type": "code",
   "execution_count": 1,
   "id": "5ecdc07f",
   "metadata": {},
   "outputs": [
    {
     "name": "stdout",
     "output_type": "stream",
     "text": [
      "sk\n"
     ]
    }
   ],
   "source": [
    "import os\n",
    "from dotenv import load_dotenv\n",
    "\n",
    "load_dotenv()\n",
    "OPENAI_API_KEY = os.getenv(\"OPENAI_API_KEY\")\n",
    "print(OPENAI_API_KEY[:2])"
   ]
  },
  {
   "cell_type": "markdown",
   "id": "f907e60b",
   "metadata": {},
   "source": [
    "* loader"
   ]
  },
  {
   "cell_type": "code",
   "execution_count": 2,
   "id": "06a1400f",
   "metadata": {},
   "outputs": [
    {
     "ename": "KeyboardInterrupt",
     "evalue": "",
     "output_type": "error",
     "traceback": [
      "\u001b[31m---------------------------------------------------------------------------\u001b[39m",
      "\u001b[31mKeyboardInterrupt\u001b[39m                         Traceback (most recent call last)",
      "\u001b[36mCell\u001b[39m\u001b[36m \u001b[39m\u001b[32mIn[2]\u001b[39m\u001b[32m, line 4\u001b[39m\n\u001b[32m      2\u001b[39m \u001b[38;5;28;01mimport\u001b[39;00m\u001b[38;5;250m \u001b[39m\u001b[34;01mjson\u001b[39;00m\n\u001b[32m      3\u001b[39m \u001b[38;5;28;01mfrom\u001b[39;00m\u001b[38;5;250m \u001b[39m\u001b[34;01mlangchain_community\u001b[39;00m\u001b[34;01m.\u001b[39;00m\u001b[34;01mdocument_loaders\u001b[39;00m\u001b[38;5;250m \u001b[39m\u001b[38;5;28;01mimport\u001b[39;00m PyPDFLoader\n\u001b[32m----> \u001b[39m\u001b[32m4\u001b[39m \u001b[38;5;28;01mfrom\u001b[39;00m\u001b[38;5;250m \u001b[39m\u001b[34;01mlangchain_openai\u001b[39;00m\u001b[38;5;250m \u001b[39m\u001b[38;5;28;01mimport\u001b[39;00m ChatOpenAI,OpenAIEmbeddings\n\u001b[32m      5\u001b[39m \u001b[38;5;28;01mfrom\u001b[39;00m\u001b[38;5;250m \u001b[39m\u001b[34;01mlangchain\u001b[39;00m\u001b[34;01m.\u001b[39;00m\u001b[34;01mvectorstores\u001b[39;00m\u001b[38;5;250m \u001b[39m\u001b[38;5;28;01mimport\u001b[39;00m FAISS\n\u001b[32m      6\u001b[39m \u001b[38;5;28;01mfrom\u001b[39;00m\u001b[38;5;250m \u001b[39m\u001b[34;01mlangchain\u001b[39;00m\u001b[34;01m.\u001b[39;00m\u001b[34;01mtext_splitter\u001b[39;00m\u001b[38;5;250m \u001b[39m\u001b[38;5;28;01mimport\u001b[39;00m RecursiveCharacterTextSplitter\n",
      "\u001b[36mFile \u001b[39m\u001b[32mc:\\Users\\user\\AppData\\Local\\pypoetry\\Cache\\virtualenvs\\langchain-basic-AGfTwH54-py3.12\\Lib\\site-packages\\langchain_openai\\__init__.py:1\u001b[39m\n\u001b[32m----> \u001b[39m\u001b[32m1\u001b[39m \u001b[38;5;28;01mfrom\u001b[39;00m\u001b[38;5;250m \u001b[39m\u001b[34;01mlangchain_openai\u001b[39;00m\u001b[34;01m.\u001b[39;00m\u001b[34;01mchat_models\u001b[39;00m\u001b[38;5;250m \u001b[39m\u001b[38;5;28;01mimport\u001b[39;00m AzureChatOpenAI, ChatOpenAI\n\u001b[32m      2\u001b[39m \u001b[38;5;28;01mfrom\u001b[39;00m\u001b[38;5;250m \u001b[39m\u001b[34;01mlangchain_openai\u001b[39;00m\u001b[34;01m.\u001b[39;00m\u001b[34;01membeddings\u001b[39;00m\u001b[38;5;250m \u001b[39m\u001b[38;5;28;01mimport\u001b[39;00m AzureOpenAIEmbeddings, OpenAIEmbeddings\n\u001b[32m      3\u001b[39m \u001b[38;5;28;01mfrom\u001b[39;00m\u001b[38;5;250m \u001b[39m\u001b[34;01mlangchain_openai\u001b[39;00m\u001b[34;01m.\u001b[39;00m\u001b[34;01mllms\u001b[39;00m\u001b[38;5;250m \u001b[39m\u001b[38;5;28;01mimport\u001b[39;00m AzureOpenAI, OpenAI\n",
      "\u001b[36mFile \u001b[39m\u001b[32mc:\\Users\\user\\AppData\\Local\\pypoetry\\Cache\\virtualenvs\\langchain-basic-AGfTwH54-py3.12\\Lib\\site-packages\\langchain_openai\\chat_models\\__init__.py:1\u001b[39m\n\u001b[32m----> \u001b[39m\u001b[32m1\u001b[39m \u001b[38;5;28;01mfrom\u001b[39;00m\u001b[38;5;250m \u001b[39m\u001b[34;01mlangchain_openai\u001b[39;00m\u001b[34;01m.\u001b[39;00m\u001b[34;01mchat_models\u001b[39;00m\u001b[34;01m.\u001b[39;00m\u001b[34;01mazure\u001b[39;00m\u001b[38;5;250m \u001b[39m\u001b[38;5;28;01mimport\u001b[39;00m AzureChatOpenAI\n\u001b[32m      2\u001b[39m \u001b[38;5;28;01mfrom\u001b[39;00m\u001b[38;5;250m \u001b[39m\u001b[34;01mlangchain_openai\u001b[39;00m\u001b[34;01m.\u001b[39;00m\u001b[34;01mchat_models\u001b[39;00m\u001b[34;01m.\u001b[39;00m\u001b[34;01mbase\u001b[39;00m\u001b[38;5;250m \u001b[39m\u001b[38;5;28;01mimport\u001b[39;00m ChatOpenAI\n\u001b[32m      4\u001b[39m __all__ = [\u001b[33m\"\u001b[39m\u001b[33mChatOpenAI\u001b[39m\u001b[33m\"\u001b[39m, \u001b[33m\"\u001b[39m\u001b[33mAzureChatOpenAI\u001b[39m\u001b[33m\"\u001b[39m]\n",
      "\u001b[36mFile \u001b[39m\u001b[32mc:\\Users\\user\\AppData\\Local\\pypoetry\\Cache\\virtualenvs\\langchain-basic-AGfTwH54-py3.12\\Lib\\site-packages\\langchain_openai\\chat_models\\azure.py:21\u001b[39m\n\u001b[32m     18\u001b[39m \u001b[38;5;28;01mfrom\u001b[39;00m\u001b[38;5;250m \u001b[39m\u001b[34;01mpydantic\u001b[39;00m\u001b[38;5;250m \u001b[39m\u001b[38;5;28;01mimport\u001b[39;00m BaseModel, Field, SecretStr, model_validator\n\u001b[32m     19\u001b[39m \u001b[38;5;28;01mfrom\u001b[39;00m\u001b[38;5;250m \u001b[39m\u001b[34;01mtyping_extensions\u001b[39;00m\u001b[38;5;250m \u001b[39m\u001b[38;5;28;01mimport\u001b[39;00m Literal, Self\n\u001b[32m---> \u001b[39m\u001b[32m21\u001b[39m \u001b[38;5;28;01mfrom\u001b[39;00m\u001b[38;5;250m \u001b[39m\u001b[34;01mlangchain_openai\u001b[39;00m\u001b[34;01m.\u001b[39;00m\u001b[34;01mchat_models\u001b[39;00m\u001b[34;01m.\u001b[39;00m\u001b[34;01mbase\u001b[39;00m\u001b[38;5;250m \u001b[39m\u001b[38;5;28;01mimport\u001b[39;00m BaseChatOpenAI\n\u001b[32m     23\u001b[39m logger = logging.getLogger(\u001b[34m__name__\u001b[39m)\n\u001b[32m     26\u001b[39m _BM = TypeVar(\u001b[33m\"\u001b[39m\u001b[33m_BM\u001b[39m\u001b[33m\"\u001b[39m, bound=BaseModel)\n",
      "\u001b[36mFile \u001b[39m\u001b[32mc:\\Users\\user\\AppData\\Local\\pypoetry\\Cache\\virtualenvs\\langchain-basic-AGfTwH54-py3.12\\Lib\\site-packages\\langchain_openai\\chat_models\\base.py:117\u001b[39m\n\u001b[32m    113\u001b[39m logger = logging.getLogger(\u001b[34m__name__\u001b[39m)\n\u001b[32m    115\u001b[39m \u001b[38;5;66;03m# This SSL context is equivelent to the default `verify=True`.\u001b[39;00m\n\u001b[32m    116\u001b[39m \u001b[38;5;66;03m# https://www.python-httpx.org/advanced/ssl/#configuring-client-instances\u001b[39;00m\n\u001b[32m--> \u001b[39m\u001b[32m117\u001b[39m global_ssl_context = \u001b[43mssl\u001b[49m\u001b[43m.\u001b[49m\u001b[43mcreate_default_context\u001b[49m\u001b[43m(\u001b[49m\u001b[43mcafile\u001b[49m\u001b[43m=\u001b[49m\u001b[43mcertifi\u001b[49m\u001b[43m.\u001b[49m\u001b[43mwhere\u001b[49m\u001b[43m(\u001b[49m\u001b[43m)\u001b[49m\u001b[43m)\u001b[49m\n\u001b[32m    119\u001b[39m _FUNCTION_CALL_IDS_MAP_KEY = \u001b[33m\"\u001b[39m\u001b[33m__openai_function_call_ids__\u001b[39m\u001b[33m\"\u001b[39m\n\u001b[32m    121\u001b[39m WellKnownTools = (\n\u001b[32m    122\u001b[39m     \u001b[33m\"\u001b[39m\u001b[33mfile_search\u001b[39m\u001b[33m\"\u001b[39m,\n\u001b[32m    123\u001b[39m     \u001b[33m\"\u001b[39m\u001b[33mweb_search_preview\u001b[39m\u001b[33m\"\u001b[39m,\n\u001b[32m   (...)\u001b[39m\u001b[32m    127\u001b[39m     \u001b[33m\"\u001b[39m\u001b[33mimage_generation\u001b[39m\u001b[33m\"\u001b[39m,\n\u001b[32m    128\u001b[39m )\n",
      "\u001b[36mFile \u001b[39m\u001b[32m~\\anaconda3\\Lib\\ssl.py:707\u001b[39m, in \u001b[36mcreate_default_context\u001b[39m\u001b[34m(purpose, cafile, capath, cadata)\u001b[39m\n\u001b[32m    704\u001b[39m     \u001b[38;5;28;01mraise\u001b[39;00m \u001b[38;5;167;01mValueError\u001b[39;00m(purpose)\n\u001b[32m    706\u001b[39m \u001b[38;5;28;01mif\u001b[39;00m cafile \u001b[38;5;129;01mor\u001b[39;00m capath \u001b[38;5;129;01mor\u001b[39;00m cadata:\n\u001b[32m--> \u001b[39m\u001b[32m707\u001b[39m     \u001b[43mcontext\u001b[49m\u001b[43m.\u001b[49m\u001b[43mload_verify_locations\u001b[49m\u001b[43m(\u001b[49m\u001b[43mcafile\u001b[49m\u001b[43m,\u001b[49m\u001b[43m \u001b[49m\u001b[43mcapath\u001b[49m\u001b[43m,\u001b[49m\u001b[43m \u001b[49m\u001b[43mcadata\u001b[49m\u001b[43m)\u001b[49m\n\u001b[32m    708\u001b[39m \u001b[38;5;28;01melif\u001b[39;00m context.verify_mode != CERT_NONE:\n\u001b[32m    709\u001b[39m     \u001b[38;5;66;03m# no explicit cafile, capath or cadata but the verify mode is\u001b[39;00m\n\u001b[32m    710\u001b[39m     \u001b[38;5;66;03m# CERT_OPTIONAL or CERT_REQUIRED. Let's try to load default system\u001b[39;00m\n\u001b[32m    711\u001b[39m     \u001b[38;5;66;03m# root CA certificates for the given purpose. This may fail silently.\u001b[39;00m\n\u001b[32m    712\u001b[39m     context.load_default_certs(purpose)\n",
      "\u001b[31mKeyboardInterrupt\u001b[39m: "
     ]
    }
   ],
   "source": [
    "import os\n",
    "import json\n",
    "from langchain_community.document_loaders import PyPDFLoader\n",
    "from langchain_openai import ChatOpenAI,OpenAIEmbeddings\n",
    "from langchain.vectorstores import FAISS\n",
    "from langchain.text_splitter import RecursiveCharacterTextSplitter\n",
    "from pprint import pprint\n",
    "\n",
    "# PDF 파일 경로 설정\n",
    "pdf_filepath = '../data/콘텐츠분쟁해결_사례.pdf'\n",
    "\n",
    "# 파일 존재 여부 확인 (파일이 없으면 오류 발생)\n",
    "if not os.path.exists(pdf_filepath):\n",
    "    raise FileNotFoundError(f\"파일을 찾을 수 없습니다: {pdf_filepath}\")"
   ]
  },
  {
   "cell_type": "code",
   "execution_count": null,
   "id": "a0d18ab0",
   "metadata": {},
   "outputs": [
    {
     "name": "stdout",
     "output_type": "stream",
     "text": [
      "==> 1. 문서 로딩 → PDF 읽기...\n",
      "  총 109페이지 로드 완료\n"
     ]
    }
   ],
   "source": [
    "from langchain_community.document_loaders import PyPDFLoader\n",
    "from langchain.text_splitter import RecursiveCharacterTextSplitter\n",
    "from langchain_community.vectorstores import FAISS\n",
    "from langchain_openai import OpenAIEmbeddings, ChatOpenAI\n",
    "from langchain.chains import RetrievalQA\n",
    "from langchain.prompts import PromptTemplate\n",
    "\n",
    "print(\"==> 1. 문서 로딩 → PDF 읽기...\")\n",
    "loader = PyPDFLoader('../data/콘텐츠분쟁해결_사례.pdf')\n",
    "documents = loader.load()\n",
    "print(f\"  총 {len(documents)}페이지 로드 완료\")\n"
   ]
  },
  {
   "cell_type": "code",
   "execution_count": null,
   "id": "a552c5eb",
   "metadata": {},
   "outputs": [
    {
     "name": "stdout",
     "output_type": "stream",
     "text": [
      "==> 2. 문서 분할 → 작은 청크로 나누기\n",
      "  104개 청크 생성 완료\n",
      "  평균 청크 길이: 722자\n"
     ]
    }
   ],
   "source": [
    "\n",
    "print(\"==> 2. 문서 분할 → 작은 청크로 나누기\")\n",
    "pythontext_splitter  = RecursiveCharacterTextSplitter(\n",
    "    chunk_size=1500,        #  법률 사례는 1200-1800자 권장\n",
    "    chunk_overlap=300,      #  사례 맥락 보존을 위해 200-400자\n",
    "    separators=[\n",
    "        \"\\n【사건개요】\",     #  법률 문서 섹션 구분자\n",
    "        \"\\n【쟁점사항】\",     #  쟁점 부분 구분\n",
    "        \"\\n【처리경위】\",     #  처리 과정 구분\n",
    "        \"\\n【처리결과】\",     #  결과 부분 구분\n",
    "        \"\\n\", \"\\n\\n\", \"\\n\", \".\", \" \", \"\"\n",
    "    ]\n",
    ")\n",
    "\n",
    "\n",
    "chunks = pythontext_splitter .split_documents(documents)\n",
    "print(f\"  {len(chunks)}개 청크 생성 완료\")\n",
    "print(f\"  평균 청크 길이: {sum(len(chunk.page_content) for chunk in chunks) / len(chunks):.0f}자\")\n"
   ]
  },
  {
   "cell_type": "code",
   "execution_count": null,
   "id": "26ac67d8",
   "metadata": {},
   "outputs": [
    {
     "name": "stdout",
     "output_type": "stream",
     "text": [
      "==> 3. 벡터화 → 임베딩으로 변환\n"
     ]
    }
   ],
   "source": [
    "\n",
    "print(\"==> 3. 벡터화 → 임베딩으로 변환\")\n",
    "pythonembeddings = OpenAIEmbeddings(\n",
    "    model=\"text-embedding-3-large\",  #  한국어 법률 용어에 최적\n",
    "    dimensions=1536                  #  고성능 임베딩 차원\n",
    ")\n"
   ]
  },
  {
   "cell_type": "code",
   "execution_count": null,
   "id": "ae84f86a",
   "metadata": {},
   "outputs": [
    {
     "name": "stdout",
     "output_type": "stream",
     "text": [
      "==> 4. 저장 → FAISS 벡터스토어에 저장\n",
      " FAISS 벡터스토어 생성 완료 (104개 벡터)\n"
     ]
    }
   ],
   "source": [
    "\n",
    "print(\"==> 4. 저장 → FAISS 벡터스토어에 저장\")\n",
    "vectorstore = FAISS.from_documents(chunks, pythonembeddings)\n",
    "print(f\" FAISS 벡터스토어 생성 완료 ({len(chunks)}개 벡터)\")\n",
    "\n"
   ]
  },
  {
   "cell_type": "code",
   "execution_count": null,
   "id": "0228584e",
   "metadata": {},
   "outputs": [
    {
     "name": "stdout",
     "output_type": "stream",
     "text": [
      "===> 5. 검색 → 질문과 유사한 문서 찾기\n",
      " Retriever 설정 완료\n"
     ]
    }
   ],
   "source": [
    "\n",
    "print(\"===> 5. 검색 → 질문과 유사한 문서 찾기\")\n",
    "pythonretriever = vectorstore.as_retriever(\n",
    "    search_type=\"similarity\",        #  또는 \"mmr\" (다양성 고려시)\n",
    "    search_kwargs={\"k\": 5}          #  상위 5개 관련 사례 검색\n",
    ")\n",
    "\n",
    "print(\" Retriever 설정 완료\")\n"
   ]
  },
  {
   "cell_type": "code",
   "execution_count": null,
   "id": "1c9e6990",
   "metadata": {},
   "outputs": [
    {
     "name": "stdout",
     "output_type": "stream",
     "text": [
      "===> 6. 생성 → LLM으로 답변 생성\n"
     ]
    }
   ],
   "source": [
    "\n",
    "print(\"===> 6. 생성 → LLM으로 답변 생성\")\n",
    "pythonllm = ChatOpenAI(\n",
    "    model=\"gpt-4o\",                 #  또는 \"gpt-4o-mini\" (경제적)\n",
    "    temperature=0.2,                #  법률 조언은 정확성 중시\n",
    "    max_tokens=2000                 #  충분한 답변 길이\n",
    ")\n"
   ]
  },
  {
   "cell_type": "code",
   "execution_count": null,
   "id": "b8d4f8e8",
   "metadata": {},
   "outputs": [
    {
     "name": "stdout",
     "output_type": "stream",
     "text": [
      "===> 7. 법률 자문 프롬프트 작성\n",
      " 프롬프트 설정 완료\n"
     ]
    }
   ],
   "source": [
    "print(\"===> 7. 법률 자문 프롬프트 작성\")\n",
    "pythonprompt_template = \"\"\"\n",
    "당신은 콘텐츠 분야 전문 법률 자문사입니다. \n",
    "아래 분쟁조정 사례들을 바탕으로 정확하고 전문적인 법률 조언을 제공해주세요.\n",
    "\n",
    "관련 분쟁사례:\n",
    "{context}\n",
    "\n",
    "상담 내용: {question}\n",
    "\n",
    "답변 가이드라인:\n",
    "1. 제시된 사례들을 근거로 답변하세요                    # 사례 기반 답변\n",
    "2. 관련 법령이나 조항이 있다면 명시하세요               # 법적 근거 제시\n",
    "3. 비슷한 사례의 처리경위와 결과를 참고하여 설명하세요    # 판례 참조\n",
    "4. 실무적 해결방안을 단계별로 제시하세요               #  실무 가이드\n",
    "5. 사례에 없는 내용은 \"제시된 사례집에서는 확인할 수 없습니다\"라고 명시하세요  #  한계 인정\n",
    "\n",
    "전문 법률 조언:\"\"\"\n",
    "\n",
    "\n",
    "prompt = PromptTemplate(\n",
    "    template=pythonprompt_template,\n",
    "    input_variables=[\"context\", \"question\"]\n",
    ")\n",
    "print(\" 프롬프트 설정 완료\")\n"
   ]
  },
  {
   "cell_type": "code",
   "execution_count": null,
   "id": "ec292cf9",
   "metadata": {},
   "outputs": [
    {
     "name": "stdout",
     "output_type": "stream",
     "text": [
      "\n",
      " ===> 8.  QA 체인 생성...\n"
     ]
    }
   ],
   "source": [
    "\n",
    "# ===================================\n",
    "# 8. QA 체인 생성\n",
    "# ===================================\n",
    "print(\"\\n ===> 8.  QA 체인 생성...\")\n",
    "\n",
    "pythonqa_chain = RetrievalQA.from_chain_type(\n",
    "    llm=pythonllm,                        #  위에서 설정한 LLM\n",
    "    chain_type=\"stuff\",             #  문서들을 하나로 합쳐서 처리\n",
    "    retriever=pythonretriever,            #  위에서 설정한 검색기\n",
    "    chain_type_kwargs={\"prompt\": prompt},  #  법률 자문 프롬프트\n",
    "    return_source_documents=True    #  참조 문서도 함께 반환\n",
    ")\n"
   ]
  },
  {
   "cell_type": "code",
   "execution_count": null,
   "id": "e6a830eb",
   "metadata": {},
   "outputs": [
    {
     "name": "stdout",
     "output_type": "stream",
     "text": [
      "\n",
      "============================================================\n",
      " RAG 시스템 테스트\n",
      "============================================================\n"
     ]
    }
   ],
   "source": [
    "\n",
    "# ===================================\n",
    "# 9. 테스트 질문 작성\n",
    "# ===================================\n",
    "pythontest_questions = [\n",
    "    \"온라인 게임에서 시스템 오류로 아이템이 사라졌는데, 게임회사가 복구를 거부하고 있습니다. 어떻게 해결할 수 있나요?\",\n",
    "    \"인터넷 강의를 중도 해지하려고 하는데 과도한 위약금을 요구받고 있습니다. 정당한가요?\",\n",
    "    \"무료체험 후 자동으로 유료전환되어 요금이 청구되었습니다. 환불 가능한가요?\",\n",
    "    \"미성년자가 부모 동의 없이 게임 아이템을 구매했습니다. 환불받을 수 있는 방법이 있나요?\",\n",
    "    \"온라인 교육 서비스가 광고와 다르게 제공되어 계약을 해지하고 싶습니다. 가능한가요?\"\n",
    "]\n",
    "\n",
    "\n",
    "print(\"\\n\" + \"=\" * 60)\n",
    "print(\" RAG 시스템 테스트\")\n",
    "print(\"=\" * 60)\n"
   ]
  },
  {
   "cell_type": "code",
   "execution_count": null,
   "id": "1c312b1e",
   "metadata": {},
   "outputs": [
    {
     "name": "stdout",
     "output_type": "stream",
     "text": [
      "\n",
      "【테스트 1/5】\n",
      " 질문: 온라인 게임에서 시스템 오류로 아이템이 사라졌는데, 게임회사가 복구를 거부하고 있습니다. 어떻게 해결할 수 있나요?\n",
      " 답변 생성 중...\n",
      "\n",
      " 답변:\n",
      "--------------------------------------------------\n",
      "온라인 게임에서 시스템 오류로 인해 아이템이 사라진 경우, 게임회사가 복구를 거부하는 상황에 대한 법률 조언을 드리겠습니다.\n",
      "\n",
      "1. **사례 기반 답변**:\n",
      "   - 제시된 사례 중, 시스템 오류로 인한 아이템 소실에 대한 사례(사례 1-가-1, 2006 및 2009)를 참고할 수 있습니다. 이 사례들에서는 시스템 오류로 인해 아이템이 소실되었으나, 게임 회사는 계정 명의자와의 문제 또는 시스템 오류가 발생하지 않았다는 이유로 복구를 거부하였습니다.\n",
      "\n",
      "2. **법적 근거 제시**:\n",
      "   - 일반적으로 게임 회사의 이용약관에 따라 시스템 오류로 인한 피해 보상 여부가 결정됩니다. 따라서 이용약관을 검토하여 시스템 오류로 인한 복구 조항이 있는지 확인하는 것이 중요합니다.\n",
      "   - 민법 제250조와 제251조는 도난 또는 유실물에 대한 반환 청구에 관한 규정을 두고 있으나, 이는 주로 물리적 재산에 대한 규정이며, 디지털 아이템의 경우에는 적용이 제한적일 수 있습니다.\n",
      "\n",
      "3. **판례 참조**:\n",
      "   - 사례 1-가-1(2009)에서는 시스템 오류로 인한 게임머니 소실이 주장되었으나, 당시 유사한 불만이 접수되지 않았고, 사용 내역이 정상적이었기 때문에 시스템 오류로 보기 어렵다고 판단되었습니다.\n",
      "   - 이러한 판례를 참고할 때, 시스템 오류가 실제로 발생했음을 입증하는 것이 중요합니다.\n",
      "\n",
      "4. **실무 가이드**:\n",
      "   - **1단계**: 게임 회사의 고객센터에 공식적으로 문의하여 시스템 오류로 인한 아이템 소실에 대한 복구 요청을 합니다. 이때, 관련 증거(예: 오류 발생 시점의 스크린샷, 로그 기록 등)를 함께 제출합니다.\n",
      "   - **2단계**: 게임 회사의 이용약관을 검토하여 시스템 오류에 대한 복구 정책이 있는지 확인합니다.\n",
      "   - **3단계**: 만약 게임 회사가 복구를 거부할 경우, 한국소비자원 또는 관련 기관에 중재를 요청할 수 있습니다.\n",
      "   - **4단계**: 법적 조치를 고려할 경우, 변호사와 상담하여 소송 가능성을 검토합니다.\n",
      "\n",
      "5. **한계 인정**:\n",
      "   - 제시된 사례집에서는 시스템 오류로 인한 아이템 소실에 대한 법적 판결이나 구체적인 법령 적용 사례는 확인할 수 없습니다. 추가적인 법적 조언이 필요하다면, 전문 변호사와의 상담을 권장합니다.\n",
      "\n",
      "이러한 단계들을 통해 문제를 해결할 수 있기를 바랍니다. 추가적인 법적 조언이 필요하다면, 관련 분야의 전문 변호사와 상담하시기 바랍니다.\n",
      "\n",
      " 참조 문서:\n",
      "   1. 페이지 8: 1. 게임 3 게임1 ■ 1-가-1) 한국소비자원 조정전 상담사례2006_시스템 오류로 소멸된 아이템 복구 요구【사건개요】신청인은 피신청인이 제...\n",
      "   2. 페이지 28: 1. 게임 23 ■ 1-가-1) 한국소비자원 조정전 상담사례2009_시스템 오류로 인한 손실 아이템 복구 요구【사건개요】신청인은 2009. 9....\n",
      "   3. 페이지 30: 1. 게임 25 ■ 1-가-1) 한국소비자원 조정전 상담사례2009_해킹으로 손실된 아이템 복구 요청【사건개요】피청구인이 제공하는 게임서비스 가...\n",
      "\n",
      "----------------------------------------\n",
      "\n",
      "【테스트 2/5】\n",
      " 질문: 인터넷 강의를 중도 해지하려고 하는데 과도한 위약금을 요구받고 있습니다. 정당한가요?\n",
      " 답변 생성 중...\n",
      "\n",
      " 답변:\n",
      "--------------------------------------------------\n",
      "인터넷 강의를 중도 해지하려는 경우, 과도한 위약금을 요구받는 상황에 대한 법률 조언을 드리겠습니다. 제시된 사례들을 바탕으로 관련 법령과 판례를 참고하여 답변을 드립니다.\n",
      "\n",
      "1. **사례 기반 답변**:\n",
      "   - 제시된 사례들에서는 인터넷 강의 중도 해지 시 위약금과 환급금의 산정이 주요 쟁점이었습니다. 특히, 소비자분쟁해결기준에 따라 해지일까지의 이용일수에 해당하는 금액과 총 이용금액의 10%를 공제 후 환급하는 것이 일반적인 처리 방식으로 나타났습니다.\n",
      "\n",
      "2. **법적 근거 제시**:\n",
      "   - 관련 법령으로는 \"방문판매 등에 관한 법률\" 제29조(계약의 해지)와 소비자분쟁해결기준(공정위고시, 인터넷콘텐츠업)이 있습니다. 이 법령들은 계약 해지 시 위약금 및 환급금 산정의 기준을 제공합니다.\n",
      "\n",
      "3. **판례 참조**:\n",
      "   - 2007년 사례에서는 피신청인이 과도한 위약금을 공제하려 했으나, 소비자분쟁해결기준에 따라 적정 금액을 산정하여 환급하도록 조정되었습니다.\n",
      "   - 2010년 사례에서는 화상불량으로 인한 계약 해지 시, 실제 이용일수를 기준으로 환급금이 산정되었습니다.\n",
      "\n",
      "4. **실무 가이드**:\n",
      "   - **1단계**: 계약서 및 관련 약관을 검토하여 위약금 및 환급금 산정 기준을 확인합니다.\n",
      "   - **2단계**: 소비자분쟁해결기준에 따라 해지일까지의 이용일수와 총 이용금액의 10%를 공제한 금액을 기준으로 환급을 요구합니다.\n",
      "   - **3단계**: 사업자와의 협의가 어려울 경우, 한국소비자원 또는 전자거래분쟁조정위원회에 조정을 신청합니다.\n",
      "   - **4단계**: 조정 결과에 따라 환급 절차를 진행합니다.\n",
      "\n",
      "5. **한계 인정**:\n",
      "   - 제시된 사례집에서는 특정한 상황(예: 계약서에 명시된 위약금 조항의 구체적 내용)에 대한 정보가 부족할 수 있습니다. 따라서, 개별 계약의 특수성을 고려하여 추가적인 법률 자문을 받는 것이 좋습니다.\n",
      "\n",
      "이와 같은 절차를 통해 과도한 위약금 요구에 대해 적절히 대응할 수 있을 것입니다. 추가적인 법적 조언이 필요하다면, 관련 전문가와 상담하시기를 권장합니다.\n",
      "\n",
      " 참조 문서:\n",
      "   1. 페이지 3: . 이러닝···········································································...\n",
      "   2. 페이지 62: 2. 이러닝 57 ■ 2-가 한국소비자원 조정결정례2007_인터넷교육서비스 중도해지 요구【사건개요】청구인은 2006. 2. 8. 피청구인이 운영...\n",
      "   3. 페이지 75: 콘텐츠분쟁조정 법리 연구 2부 - 타 분쟁조정사례 조사 - 70 하기 위하여 제정된 소비자분쟁해결기준은 인터넷컨텐츠업의 경우 해지일까지의 이용일...\n",
      "\n",
      "----------------------------------------\n",
      "\n",
      "【테스트 3/5】\n",
      " 질문: 무료체험 후 자동으로 유료전환되어 요금이 청구되었습니다. 환불 가능한가요?\n",
      " 답변 생성 중...\n",
      "\n",
      " 답변:\n",
      "--------------------------------------------------\n",
      "무료 체험 후 자동으로 유료 전환되어 요금이 청구된 경우, 환불 가능 여부에 대한 법률 조언은 다음과 같습니다.\n",
      "\n",
      "1. **사례 기반 답변**:\n",
      "   - 제시된 사례들에서 공통적으로 나타나는 문제는 소비자가 무료 체험 후 자동으로 유료 전환되는 사실을 충분히 인지하지 못했다는 점입니다. 특히, 중요한 계약 조건이 명확하게 고지되지 않았거나, 고지되었더라도 소비자가 쉽게 인지할 수 없는 방식으로 제공된 경우가 많습니다.\n",
      "\n",
      "2. **법적 근거 제시**:\n",
      "   - 「약관의 규제에 관한 법률」 제3조는 약관의 작성 및 설명의무를 규정하고 있으며, 중요한 계약 조건을 명확하게 고지해야 할 의무가 있습니다.\n",
      "   - 「소비자기본법」에 따른 소비자분쟁해결기준에 따르면, 소비자에게 불리한 계약 조항은 무효화될 수 있습니다.\n",
      "\n",
      "3. **판례 참조**:\n",
      "   - 사례 3-가에서는 피신청인이 무료 체험 후 자동 유료 전환에 대한 고지를 충분히 하지 않았다는 이유로 소비자에게 환불 조치를 권고하였습니다.\n",
      "   - 사례 3-나에서도 유사하게, 무료 광고로 소비자를 유인한 후 자동 가입을 통해 요금을 청구하는 행위가 소비자 보호 관련 법규를 위반할 소지가 있다고 판단되었습니다.\n",
      "\n",
      "4. **실무 가이드**:\n",
      "   - **계약 내용 확인**: 먼저, 계약 당시 제공된 약관이나 고지 내용을 확인하여 중요한 조건이 명확히 설명되었는지 검토합니다.\n",
      "   - **이의 제기**: 사업자에게 계약 해지 및 환불을 요청하는 공식적인 이의 제기를 합니다. 이때, 계약 조건의 불명확성을 강조합니다.\n",
      "   - **분쟁 조정 신청**: 사업자가 환불 요청을 거부할 경우, 한국소비자원이나 전자거래분쟁조정위원회에 분쟁 조정을 신청할 수 있습니다.\n",
      "   - **법적 조치 고려**: 필요시, 법률 전문가의 도움을 받아 소송 등의 법적 조치를 고려할 수 있습니다.\n",
      "\n",
      "5. **한계 인정**:\n",
      "   - 제시된 사례집에서는 특정한 계약 조건이나 사업자의 개별적인 대응 방식에 대한 정보는 확인할 수 없습니다. 따라서, 구체적인 상황에 따라 법률 전문가의 추가적인 상담이 필요할 수 있습니다.\n",
      "\n",
      "이러한 절차를 통해 소비자는 자신의 권리를 보호하고, 부당한 요금 청구에 대해 적절한 조치를 취할 수 있습니다.\n",
      "\n",
      " 참조 문서:\n",
      "   1. 페이지 100: 3. 기타(웹) 95 ■ 3-가 한국소비자원 조정결정례2010_무료 이벤트 후 자동 소액 결제 요금 환급요구【사건개요】신청인은 2008. 12....\n",
      "   2. 페이지 103: 콘텐츠분쟁조정 법리 연구 2부 - 타 분쟁조정사례 조사 - 98 뿐만 아니라 이용자가 가입 후 해지를 원할 때 일정기간 해지를 못하게 한다거나 ...\n",
      "   3. 페이지 69: 콘텐츠분쟁조정 법리 연구 2부 - 타 분쟁조정사례 조사 - 64 사용하여 반환받을 수 있는 서비스가 아니므로 미 이용기간에 해당하는 대금을 환급...\n",
      "\n",
      "----------------------------------------\n",
      "\n",
      "【테스트 4/5】\n",
      " 질문: 미성년자가 부모 동의 없이 게임 아이템을 구매했습니다. 환불받을 수 있는 방법이 있나요?\n",
      " 답변 생성 중...\n",
      "\n",
      " 답변:\n",
      "--------------------------------------------------\n",
      "미성년자가 부모의 동의 없이 게임 아이템을 구매한 경우, 환불을 받을 수 있는 가능성은 여러 요소에 따라 달라질 수 있습니다. 제시된 사례들을 근거로 하여 다음과 같은 법률 조언을 드립니다.\n",
      "\n",
      "1. **사례 기반 답변**:\n",
      "   - 제시된 사례들에서는 미성년자가 부모의 동의 없이 타인의 명의를 도용하거나, 부모의 신용카드를 사용하여 게임 아이템을 구매한 경우가 있습니다. 이러한 경우, 미성년자의 행위는 원칙적으로 취소가 가능하나, 미성년자가 사술을 사용하여 능력자임을 믿게 한 경우에는 취소가 불가능할 수 있습니다.\n",
      "\n",
      "2. **법적 근거 제시**:\n",
      "   - **민법 제5조**: 미성년자의 능력 제한\n",
      "   - **민법 제17조**: 무능력자의 사술\n",
      "   - **민법 제741조**: 부당이득의 내용\n",
      "   - **민법 제753조 및 제755조**: 미성년자의 책임능력 및 책임무능력자의 감독자의 책임\n",
      "   - **대법원 판례 (1971. 12. 14. 선고 71다2045)**: 미성년자가 사술로써 능력자임을 믿게 한 경우 취소 불가\n",
      "\n",
      "3. **판례 참조**:\n",
      "   - 사례에서는 미성년자가 부모의 신용카드를 사용하여 구매한 경우, 사술을 사용한 것으로 판단되어 취소가 불가능하다는 결론이 내려졌습니다. 이는 미성년자가 적극적으로 자신이 능력자임을 표시한 경우로 해석됩니다.\n",
      "\n",
      "4. **실무 가이드**:\n",
      "   - **1단계**: 구매 내역 및 결제 수단 확인 - 미성년자가 사용한 결제 수단과 구매 내역을 확인합니다.\n",
      "   - **2단계**: 사술 여부 판단 - 미성년자가 사술을 사용했는지 여부를 판단합니다. 예를 들어, 성년자임을 속이기 위해 적극적인 행위를 했는지 확인합니다.\n",
      "   - **3단계**: 환불 요청 - 사술이 없었다면, 게임 회사에 환불을 요청합니다. 이때, 미성년자의 행위가 법정대리인의 동의 없이 이루어졌음을 증명해야 합니다.\n",
      "   - **4단계**: 법적 조치 고려 - 환불이 거부될 경우, 법적 조치를 고려할 수 있습니다. 이때, 변호사와 상담하여 소송 가능성을 검토합니다.\n",
      "\n",
      "5. **한계 인정**:\n",
      "   - 제시된 사례집에서는 미성년자가 사술을 사용하지 않은 경우의 환불 가능성에 대한 구체적인 사례는 확인할 수 없습니다.\n",
      "\n",
      "이와 같은 절차를 통해 미성년자가 부모 동의 없이 구매한 게임 아이템에 대한 환불 가능성을 검토할 수 있습니다. 다만, 구체적인 상황에 따라 결과가 달라질 수 있으므로, 필요시 전문 변호사와 상담하는 것이 좋습니다.\n",
      "\n",
      " 참조 문서:\n",
      "   1. 페이지 50: 1. 게임 45 ■ 1-나 전자거래분쟁조정위원회 조정결정례2008_부당결제대금 반환 청구【사건개요】신청인의 자녀는 2004. 4. 22. 피신청...\n",
      "   2. 페이지 53: 콘텐츠분쟁조정 법리 연구 2부 - 타 분쟁조정사례 조사 - 48  - 피신청인  ㆍ 피신청인은 구매당시 구매자에게 전화를 하였을 당시 전화를 받...\n",
      "   3. 페이지 54: 1. 게임 49  · 민법 제103조 및 제105조 ; 반사회적 법률행위와 부당이득 · 대법원 1971. 12. 14. 선고71다2045판결 ·...\n",
      "\n",
      "----------------------------------------\n",
      "\n",
      "【테스트 5/5】\n",
      " 질문: 온라인 교육 서비스가 광고와 다르게 제공되어 계약을 해지하고 싶습니다. 가능한가요?\n",
      " 답변 생성 중...\n",
      "\n",
      " 답변:\n",
      "--------------------------------------------------\n",
      "온라인 교육 서비스가 광고와 다르게 제공되어 계약을 해지하고 싶다는 상담에 대한 법률 조언은 다음과 같습니다.\n",
      "\n",
      "1. **사례 기반 답변**:\n",
      "   - 제시된 사례들에서 볼 수 있듯이, 온라인 교육 서비스 계약 해지와 관련된 분쟁은 주로 환불 기준과 계약 해지의 적법성에 관한 것입니다. 예를 들어, 2008년 사례에서는 신청인이 강의를 수강하지 않았음에도 불구하고 청약철회 기간을 경과하여 환불이 거부된 경우가 있었습니다. 이 경우, 분쟁조정위원회는 피신청인이 환불 기준을 명확히 제시하지 않았다는 점을 고려하여 일부 환불을 결정하였습니다.\n",
      "\n",
      "2. **법적 근거 제시**:\n",
      "   - 관련 법령으로는 「방문판매 등에 관한 법률」 제29조(계약의 해지) 및 제30조(계약의 해지 또는 해제의 효과와 위약금 등)가 있습니다. 이 법령에 따르면, 소비자는 계약을 해지할 수 있으며, 해지로 인해 발생하는 손실을 현저하게 초과하는 위약금을 청구할 수 없습니다.\n",
      "\n",
      "3. **판례 참조**:\n",
      "   - 2010년 사례에서는 신청인이 계약 해지 의사를 표시한 후 피신청인이 환불을 거부하였으나, 분쟁조정위원회는 계약 해지가 적법하게 이루어졌다고 판단하고, 피신청인의 과도한 환불 거부 주장을 받아들이지 않았습니다.\n",
      "\n",
      "4. **실무 가이드**:\n",
      "   - **1단계**: 계약서 및 약관을 검토하여 환불 및 해지 조건을 확인합니다.\n",
      "   - **2단계**: 계약 해지 의사를 서면으로 명확히 전달하고, 관련 법령에 따른 해지 권리를 주장합니다.\n",
      "   - **3단계**: 사업자가 환불을 거부할 경우, 소비자분쟁조정위원회에 조정을 신청합니다.\n",
      "   - **4단계**: 조정 결과에 따라 환불을 받거나, 추가적인 법적 조치를 고려합니다.\n",
      "\n",
      "5. **한계 인정**:\n",
      "   - 제시된 사례집에서는 광고와 실제 제공된 서비스의 차이로 인한 계약 해지에 대한 구체적인 사례는 확인할 수 없습니다. 광고와 다른 서비스 제공이 계약 해지 사유로 인정될 수 있는지는 구체적인 계약 내용과 광고 내용을 비교하여 판단해야 합니다.\n",
      "\n",
      "이와 같은 절차를 통해 계약 해지 및 환불 문제를 해결할 수 있을 것입니다. 추가적인 법적 조언이 필요하다면, 관련 법률 전문가와 상담하시기 바랍니다.\n",
      "\n",
      " 참조 문서:\n",
      "   1. 페이지 94: 2. 이러닝 89 상기 내용을 살펴보면, 신청인은 청약철회 기간을 지났으므로 위 계약의 청약을 철회할 수는 없는 것으로 보인다. 피신청인은 위 ...\n",
      "   2. 페이지 93: 콘텐츠분쟁조정 법리 연구 2부 - 타 분쟁조정사례 조사 - 88 ■ 2-다 전자거래분쟁조정위원회 조정결정례2008_온라인 동영상 강의 계약 해지...\n",
      "   3. 페이지 74: 2. 이러닝 69 ■ 2-가 한국소비자원 조정결정례2010_온라인교육 서비스 계약 해지에 따른 이용요금 환급 요구【사건개요】신청인은 2009. ...\n",
      "\n",
      "----------------------------------------\n"
     ]
    }
   ],
   "source": [
    "\n",
    "# ===================================\n",
    "# 10. 질문 및 답변 실행\n",
    "# ===================================\n",
    "for i, question in enumerate(pythontest_questions, 1):\n",
    "    print(f\"\\n【테스트 {i}/5】\")\n",
    "    print(f\" 질문: {question}\")\n",
    "    print(\" 답변 생성 중...\")\n",
    "    \n",
    "    # RAG 실행\n",
    "    result = pythonqa_chain.invoke({\"query\": question})\n",
    "    answer = result[\"result\"]\n",
    "    source_docs = result[\"source_documents\"]\n",
    "    \n",
    "    print(f\"\\n 답변:\")\n",
    "    print(\"-\" * 50)\n",
    "    print(answer)\n",
    "    \n",
    "    # 참조 문서 정보\n",
    "    print(f\"\\n 참조 문서:\")\n",
    "    for j, doc in enumerate(source_docs[:3], 1):\n",
    "        page = doc.metadata.get('page', 'N/A')\n",
    "        preview = doc.page_content[:80].replace('\\n', ' ')\n",
    "        print(f\"   {j}. 페이지 {page}: {preview}...\")\n",
    "    \n",
    "    print(\"\\n\" + \"-\" * 40)"
   ]
  },
  {
   "cell_type": "code",
   "execution_count": null,
   "id": "e9822582",
   "metadata": {},
   "outputs": [],
   "source": [
    "# ===================================\n",
    "# 11. 분쟁 유형 분류 함수\n",
    "# ===================================\n",
    "\n",
    "def classify_dispute_type(query):\n",
    "    game_keywords = [\"게임\", \"아이템\", \"계정\", \"캐릭터\", \"레벨\", \"길드\", \"온라인게임\"]\n",
    "    elearning_keywords = [\"강의\", \"온라인교육\", \"이러닝\", \"수강\", \"환불\", \"화상교육\"]\n",
    "    web_keywords = [\"웹사이트\", \"무료체험\", \"자동결제\", \"구독\", \"사이트\"]\n",
    "    \n",
    "    query_lower = query.lower()\n",
    "    \n",
    "    if any(keyword in query_lower for keyword in game_keywords):\n",
    "        return \"게임\"\n",
    "    elif any(keyword in query_lower for keyword in elearning_keywords):\n",
    "        return \"이러닝\"\n",
    "    elif any(keyword in query_lower for keyword in web_keywords):\n",
    "        return \"웹콘텐츠\"\n",
    "    else:\n",
    "        return \"기타\"\n"
   ]
  }
 ],
 "metadata": {
  "kernelspec": {
   "display_name": "langchain-basic-AGfTwH54-py3.12",
   "language": "python",
   "name": "python3"
  },
  "language_info": {
   "codemirror_mode": {
    "name": "ipython",
    "version": 3
   },
   "file_extension": ".py",
   "mimetype": "text/x-python",
   "name": "python",
   "nbconvert_exporter": "python",
   "pygments_lexer": "ipython3",
   "version": "3.12.7"
  }
 },
 "nbformat": 4,
 "nbformat_minor": 5
}
