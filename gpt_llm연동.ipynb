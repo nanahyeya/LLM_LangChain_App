{
 "cells": [
  {
   "cell_type": "code",
   "execution_count": 12,
   "id": "ab9a673e",
   "metadata": {},
   "outputs": [
    {
     "name": "stdout",
     "output_type": "stream",
     "text": [
      "Hello LangChain ChatGPT\n"
     ]
    }
   ],
   "source": [
    "print('Hello LangChain ChatGPT')"
   ]
  },
  {
   "cell_type": "code",
   "execution_count": 13,
   "id": "981e738c",
   "metadata": {},
   "outputs": [],
   "source": [
    "import os\n",
    "from dotenv import load_dotenv\n",
    "from langchain_core.prompts import ChatPromptTemplate\n",
    "from langchain_openai import ChatOpenAI \n",
    "\n",
    "\n",
    "load_dotenv()\n",
    "OPENAI_API_KEY = os.getenv(\"OPENAI_API_KEY\")\n",
    "# print(OPENAI_API_KEY)"
   ]
  },
  {
   "cell_type": "code",
   "execution_count": 14,
   "id": "3f6aad7a",
   "metadata": {},
   "outputs": [
    {
     "name": "stdout",
     "output_type": "stream",
     "text": [
      "input_variables=['input'] input_types={} partial_variables={} messages=[SystemMessagePromptTemplate(prompt=PromptTemplate(input_variables=[], input_types={}, partial_variables={}, template='당신은 개발자입니다.'), additional_kwargs={}), HumanMessagePromptTemplate(prompt=PromptTemplate(input_variables=['input'], input_types={}, partial_variables={}, template='{input}'), additional_kwargs={})]\n"
     ]
    }
   ],
   "source": [
    "# prompt\n",
    "prompt = ChatPromptTemplate.from_messages(\n",
    "    [ (\"system\", \"당신은 개발자입니다.\") , \n",
    "     (\"user\", \"{input}\") ]\n",
    ")\n",
    "print(prompt)\n",
    "\n",
    "prompt_text = prompt.format(input=\"LangServe은 무엇인가요? 자세하게 설명해주세요\")"
   ]
  },
  {
   "cell_type": "code",
   "execution_count": null,
   "id": "e15336d3",
   "metadata": {},
   "outputs": [
    {
     "name": "stdout",
     "output_type": "stream",
     "text": [
      "client=<openai.resources.chat.completions.completions.Completions object at 0x00000211D3D07800> async_client=<openai.resources.chat.completions.completions.AsyncCompletions object at 0x00000211D3DDC920> root_client=<openai.OpenAI object at 0x00000211D3DB3B00> root_async_client=<openai.AsyncOpenAI object at 0x00000211D3856DB0> model_name='gpt-4o-mini' temperature=0.7 model_kwargs={} openai_api_key=SecretStr('**********')\n"
     ]
    }
   ],
   "source": [
    "# ChatGPT API를 사용하는 ChatOpenAI 인스턴스 생성\n",
    "llm = ChatOpenAI(\n",
    "    #model=\"gpt-3.5-turbo-0125\",\n",
    "    model=\"gpt-4o\",\n",
    "    temperature=0.7\n",
    ")\n",
    "print(llm)"
   ]
  },
  {
   "cell_type": "code",
   "execution_count": 18,
   "id": "dd9097ea",
   "metadata": {},
   "outputs": [
    {
     "name": "stdout",
     "output_type": "stream",
     "text": [
      "<class 'langchain_core.messages.ai.AIMessage'>\n",
      "<class 'str'>\n",
      "응답: LangServe은 자연어 처리(NLP)와 인공지능(AI) 기반의 언어 모델을 제공하는 플랫폼 또는 서비스입니다. 이 서비스는 사용자가 텍스트 데이터를 처리하고 분석할 수 있도록 다양한 기능을 제공합니다. LangServe의 주요 특징과 기능은 다음과 같습니다:\n",
      "\n",
      "1. **언어 모델**: LangServe은 최신 언어 모델을 기반으로 하여, 자연어 이해(NLU) 및 자연어 생성(NLG) 작업을 수행할 수 있습니다. 이는 텍스트 생성, 요약, 번역, 질문 답변 등 다양한 작업을 포함합니다.\n",
      "\n",
      "2. **API 제공**: LangServe은 RESTful API를 통해 사용자가 자신의 애플리케이션에 쉽게 통합할 수 있도록 지원합니다. 이를 통해 개발자는 복잡한 NLP 작업을 간단하게 수행할 수 있습니다.\n",
      "\n",
      "3. **다양한 언어 지원**: 여러 언어에 대한 지원을 제공하여, 다국적 기업이나 다양한 언어를 사용하는 사용자들이 쉽게 접근할 수 있도록 합니다.\n",
      "\n",
      "4. **사용자 정의 모델**: LangServe은 사용자가 자신의 데이터에 맞게 모델을 Fine-tuning 할 수 있는 기능을 제공하여, 특정 비즈니스 니즈에 맞춘 맞춤형 솔루션을 만들 수 있습니다.\n",
      "\n",
      "5. **대화형 AI**: LangServe은 챗봇이나 가상 비서를 구축할 수 있는 기능을 제공하여, 사용자와의 자연스러운 대화를 가능하게 합니다.\n",
      "\n",
      "6. **보안 및 개인정보 보호**: 데이터의 보안과 사용자 개인정보 보호를 위해 다양한 보안 기능 및 정책을 갖추고 있습니다.\n",
      "\n",
      "7. **분석 및 통계**: 사용자가 생성한 데이터에 대한 통계 및 분석 기능을 제공하여, 데이터 기반의 의사결정을 지원합니다.\n",
      "\n",
      "이와 같은 기능을 통해 LangServe은 기업이나 개발자가 자연어 처리 기술을 활용하여 비즈니스 가치를 높이고, 사용자 경험을 개선할 수 있도록 돕는 플랫폼입니다.\n"
     ]
    }
   ],
   "source": [
    "try:\n",
    "    response = llm.invoke(prompt_text)\n",
    "    print(type(response))\n",
    "    print(type(response.content))\n",
    "    print(\"응답:\", response.content)\n",
    "except Exception as e:\n",
    "    print(f\"오류 발생: {e}\")"
   ]
  }
 ],
 "metadata": {
  "kernelspec": {
   "display_name": "langchain-basic-AGfTwH54-py3.12",
   "language": "python",
   "name": "python3"
  },
  "language_info": {
   "codemirror_mode": {
    "name": "ipython",
    "version": 3
   },
   "file_extension": ".py",
   "mimetype": "text/x-python",
   "name": "python",
   "nbconvert_exporter": "python",
   "pygments_lexer": "ipython3",
   "version": "3.12.7"
  }
 },
 "nbformat": 4,
 "nbformat_minor": 5
}
