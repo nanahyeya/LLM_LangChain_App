{
 "cells": [
  {
   "cell_type": "code",
   "execution_count": 4,
   "id": "ab9a673e",
   "metadata": {},
   "outputs": [
    {
     "name": "stdout",
     "output_type": "stream",
     "text": [
      "Hello LangChain\n"
     ]
    }
   ],
   "source": [
    "print('Hello LangChain')"
   ]
  },
  {
   "cell_type": "code",
   "execution_count": 5,
   "id": "981e738c",
   "metadata": {},
   "outputs": [],
   "source": [
    "import os\n",
    "from dotenv import load_dotenv\n",
    "from langchain_core.prompts import ChatPromptTemplate\n",
    "from langchain_openai import ChatOpenAI \n",
    "\n",
    "\n",
    "load_dotenv()\n",
    "OPENAI_API_KEY = os.getenv(\"OPENAI_API_KEY\")\n",
    "# print(OPENAI_API_KEY)"
   ]
  },
  {
   "cell_type": "code",
   "execution_count": 6,
   "id": "3f6aad7a",
   "metadata": {},
   "outputs": [
    {
     "name": "stdout",
     "output_type": "stream",
     "text": [
      "input_variables=['input'] input_types={} partial_variables={} messages=[SystemMessagePromptTemplate(prompt=PromptTemplate(input_variables=[], input_types={}, partial_variables={}, template='당신은 개발자입니다.'), additional_kwargs={}), HumanMessagePromptTemplate(prompt=PromptTemplate(input_variables=['input'], input_types={}, partial_variables={}, template='{input}'), additional_kwargs={})]\n"
     ]
    }
   ],
   "source": [
    "# prompt\n",
    "prompt = ChatPromptTemplate.from_messages(\n",
    "    [ (\"system\", \"당신은 개발자입니다.\") , \n",
    "     (\"user\", \"{input}\") ]\n",
    ")\n",
    "print(prompt)\n",
    "\n",
    "prompt_text = prompt.format(input=\"파이썬은 무엇인가요? 자세하게 설명해주세요\")"
   ]
  },
  {
   "cell_type": "code",
   "execution_count": 7,
   "id": "e15336d3",
   "metadata": {},
   "outputs": [
    {
     "name": "stdout",
     "output_type": "stream",
     "text": [
      "client=<openai.resources.chat.completions.completions.Completions object at 0x000002489C36FA70> async_client=<openai.resources.chat.completions.completions.AsyncCompletions object at 0x000002489C847EC0> root_client=<openai.OpenAI object at 0x000002489A10C2F0> root_async_client=<openai.AsyncOpenAI object at 0x000002489C455E20> model_name='meta-llama/llama-4-scout-17b-16e-instruct' temperature=0.7 model_kwargs={} openai_api_key=SecretStr('**********') openai_api_base='https://api.groq.com/openai/v1'\n"
     ]
    }
   ],
   "source": [
    "# Groq API를 사용하는 ChatOpenAI 인스턴스 생성\n",
    "llm = ChatOpenAI(\n",
    "    api_key=OPENAI_API_KEY,\n",
    "    base_url=\"https://api.groq.com/openai/v1\",  # Groq API 엔드포인트\n",
    "    model=\"meta-llama/llama-4-scout-17b-16e-instruct\",\n",
    "    temperature=0.7\n",
    ")\n",
    "print(llm)"
   ]
  },
  {
   "cell_type": "code",
   "execution_count": 8,
   "id": "dd9097ea",
   "metadata": {},
   "outputs": [
    {
     "name": "stdout",
     "output_type": "stream",
     "text": [
      "<class 'langchain_core.messages.ai.AIMessage'>\n",
      "<class 'str'>\n",
      "응답: 파이썬! 프로그래밍 세계에서 매우 인기 있는 언어입니다. 저는 개발자로서 파이썬에 대해 자세히 설명해 드리겠습니다.\n",
      "\n",
      "**파이썬이란?**\n",
      "\n",
      "파이썬은 1991년 Guido van Rossum에 의해 개발된 고수준 프로그래밍 언어입니다. 파이썬은 동적 타이핑(dynamic typing) 언어이며, 객체 지향 프로그래밍(OOP) 패러다임을 따릅니다. 파이썬의 디자인 철학은 코드 가독성과 간결성을 강조하며, 개발자가 빠르게 프로그램을 작성하고 테스트할 수 있도록 돕습니다.\n",
      "\n",
      "**파이썬의 특징**\n",
      "\n",
      "파이썬의 주요 특징은 다음과 같습니다.\n",
      "\n",
      "1. **쉬운 학습 곡선**: 파이썬은 간단하고 직관적인 문법을 가지고 있어, 프로그래밍을 처음 시작하는 사람들도 쉽게 배울 수 있습니다.\n",
      "2. **고수준 언어**: 파이썬은 하드웨어와 운영 체제 레벨의 복잡성을 추상화하여, 개발자가 비즈니스 로직에 집중할 수 있도록 합니다.\n",
      "3. **동적 타이핑**: 파이썬은 변수의 타입을 선언할 필요가 없으며, 실행 시에 타입이 결정됩니다.\n",
      "4. **객체 지향 프로그래밍**: 파이썬은 OOP 패러다임을 지원하며, 클래스, 객체, 상속, 다형성 등의 개념을 포함합니다.\n",
      "5. **대규모 라이브러리**: 파이썬은 방대한 라이브러리와 모듈을 보유하고 있어, 다양한 분야에서 활용할 수 있습니다.\n",
      "\n",
      "**파이썬의 활용 분야**\n",
      "\n",
      "파이썬은 다양한 분야에서 사용됩니다.\n",
      "\n",
      "1. **웹 개발**: 파이썬은 웹 개발을 위해 Flask, Django 등의 프레임워크를 제공합니다.\n",
      "2. **데이터 과학**: 파이썬은 데이터 과학을 위해 NumPy, pandas, scikit-learn 등의 라이브러리를 제공합니다.\n",
      "3. **인공지능**: 파이썬은 인공지능을 위해 TensorFlow, Keras 등의 라이브러리를 제공합니다.\n",
      "4. **자동화**: 파이썬은 자동화를 위해 Robot Framework 등의 라이브러리를 제공합니다.\n",
      "5. **교육**: 파이썬은 교육 기관에서 프로그래밍 입문 언어로 널리 사용됩니다.\n",
      "\n",
      "**파이썬의 버전**\n",
      "\n",
      "파이썬은 두 가지 주요 버전으로 나뉩니다.\n",
      "\n",
      "1. **파이썬 2.x**: 2000년에 출시된 파이썬 2.x는 2015년에 지원이 중단되었습니다.\n",
      "2. **파이썬 3.x**: 2008년에 출시된 파이썬 3.x는 현재 가장 최신의 버전이며, 활발하게 지원되고 있습니다.\n",
      "\n",
      "**결론**\n",
      "\n",
      "파이썬은 쉽고 강력한 프로그래밍 언어입니다. 파이썬은 다양한 분야에서 활용되며, 개발자가 빠르게 프로그램을 작성하고 테스트할 수 있도록 돕습니다. 파이썬은 교육 기관에서 프로그래밍 입문 언어로 널리 사용되며, 개발자들 사이에서 인기가 있습니다.\n"
     ]
    }
   ],
   "source": [
    "try:\n",
    "    response = llm.invoke(prompt_text)\n",
    "    print(type(response))\n",
    "    print(type(response.content))\n",
    "    print(\"응답:\", response.content)\n",
    "except Exception as e:\n",
    "    print(f\"오류 발생: {e}\")"
   ]
  },
  {
   "cell_type": "markdown",
   "id": "20be6835",
   "metadata": {},
   "source": [
    "LCEL\n",
    "Prompt + LLM을 Chain으로 연결하기"
   ]
  },
  {
   "cell_type": "code",
   "execution_count": 15,
   "id": "e0e483ac",
   "metadata": {},
   "outputs": [
    {
     "data": {
      "text/plain": [
       "PromptTemplate(input_variables=['input'], input_types={}, partial_variables={}, template='\\n    You are an expert in AI Expert. Answer the question. \\n    <Question>: {input}에 대해 쉽게 설명해주세요.\")\\n    ')"
      ]
     },
     "execution_count": 15,
     "metadata": {},
     "output_type": "execute_result"
    }
   ],
   "source": [
    "from langchain_core.prompts import PromptTemplate\n",
    "from langchain_core.output_parsers import StrOutputParser\n",
    "\n",
    "\n",
    "prompt = PromptTemplate.from_template(\n",
    "    \"\"\"\n",
    "    You are an expert in AI Expert. Answer the question. \n",
    "    <Question>: {input}에 대해 쉽게 설명해주세요.\")\n",
    "    \"\"\")                                     \n",
    "prompt"
   ]
  },
  {
   "cell_type": "code",
   "execution_count": 24,
   "id": "918cd610",
   "metadata": {},
   "outputs": [
    {
     "name": "stdout",
     "output_type": "stream",
     "text": [
      "<class 'langchain_core.runnables.base.RunnableSequence'>\n"
     ]
    }
   ],
   "source": [
    "# chain 연결 (LCEL)\n",
    "chain = prompt | llm\n",
    "print(type(chain))"
   ]
  },
  {
   "cell_type": "code",
   "execution_count": null,
   "id": "15a67e93",
   "metadata": {},
   "outputs": [],
   "source": [
    "LCEL\n",
    "Prompt + LLM + OutputParser을 Chain으로 연결하기"
   ]
  },
  {
   "cell_type": "code",
   "execution_count": null,
   "id": "d0277560",
   "metadata": {},
   "outputs": [
    {
     "name": "stdout",
     "output_type": "stream",
     "text": [
      "<class 'langchain_core.runnables.base.RunnableSequence'>\n"
     ]
    }
   ],
   "source": [
    "from langchain_core.output_parsers import StrOutputParser\n",
    "\n",
    "# chain 연결 (LCEL) prompt + llm + outputparser\n",
    "output_parser = StrOutputParser()\n",
    "\n",
    "chain2 = prompt | llm | output_parser\n",
    "print(type(chain2))"
   ]
  },
  {
   "cell_type": "code",
   "execution_count": null,
   "id": "ffa763d0",
   "metadata": {},
   "outputs": [],
   "source": [
    "from langchain_core.output_parsers import StrOutputParser\n",
    "\n",
    "\n",
    "# chain 호출\n",
    "try:\n",
    "    result = chain.invoke({\"input\": \"인공지능 모델의 학습 원리\"})\n",
    "    print(type(result))\n",
    "    print(result.content)\n",
    "except Exception as e:\n",
    "    print(f\"오류 발생: {e}\")"
   ]
  },
  {
   "cell_type": "code",
   "execution_count": 25,
   "id": "e927295d",
   "metadata": {},
   "outputs": [
    {
     "name": "stdout",
     "output_type": "stream",
     "text": [
      "<class 'str'>\n",
      "LangChain은 다양한 제품과 도구를 제공하여 개발자와 기업이 인공지능(AI) 기술을 보다 쉽게 통합하고 활용할 수 있도록 지원합니다. LangChain의 주요 제품 중 LangSmith와 LangServe에 대해 설명드리겠습니다.\n",
      "\n",
      "### LangSmith\n",
      "\n",
      "LangSmith는 LangChain에서 제공하는 플랫폼으로, 개발자가 랭체인 기반의 애플리케이션을 더 쉽게 개발, 테스트, 배포할 수 있도록 설계되었습니다. LangSmith를 통해 개발자는 다음과 같은 작업을 보다 효율적으로 수행할 수 있습니다:\n",
      "\n",
      "- **개발 환경 제공**: LangChain의 기능을 활용하여 랭체인 기반 애플리케이션을 개발할 수 있는 통합 환경을 제공합니다.\n",
      "- **워크플로우 관리**: 복잡한 데이터 처리 및 AI 워크플로를 쉽게 관리하고 시각화할 수 있습니다.\n",
      "- **에이전트 관리**: 다양한 AI 에이전트를 관리하고, 그들의 상호 작용을 조정할 수 있습니다.\n",
      "- **데이터 관리**: AI 모델의 학습과 추론에 필요한 데이터를 효과적으로 관리할 수 있습니다.\n",
      "\n",
      "LangSmith는 개발자가 AI 기반 애플리케이션을 구축하고 운영하는 데 필요한 다양한 기능을 제공합니다.\n",
      "\n",
      "### LangServe\n",
      "\n",
      "LangServe는 LangChain에서 제공하는 또 다른 중요한 제품으로, LangChain 애플리케이션의 배포 및 운영을 간소화합니다. LangServe를 통해 사용자는 다음과 같은 이점을 누릴 수 있습니다:\n",
      "\n",
      "- **API 제공**: LangChain 애플리케이션에 대한 RESTful API를 자동으로 생성해 줌으로써, 클라이언트 애플리케이션이 서버와 통신할 수 있는 인터페이스를 제공합니다.\n",
      "- **확장성**: 대규모 트래픽과 요청을 효율적으로 처리하도록 설계되어, 애플리케이션의 확장성을 보장합니다.\n",
      "- **모니터링 및 로그 관리**: 배포된 애플리케이션의 성능을 모니터링하고, 로그를 관리하여 문제 해결을 돕습니다.\n",
      "\n",
      "LangServe는 LangChain 애플리케이션을 프로덕션 환경에 배포하고 관리하는 데 있어 중요한 역할을 합니다.\n",
      "\n",
      "### 기타 제품\n",
      "\n",
      "LangChain은 LangSmith와 LangServe 외에도 다양한 다른 도구와 제품을 제공하고 있습니다. 이들 제품은 특정 작업이나 산업에 특화되어 있으며, 개발자와 기업이 AI 기술을 활용할 수 있는 다양한 솔루션을 제공합니다.\n",
      "\n",
      "- **LangChain SDK**: LangChain의 핵심 기능에 접근하고, 애플리케이션을 구축하기 위한 소프트웨어 개발 키트입니다.\n",
      "- **LangChain 커뮤니티**: LangChain 사용자와 개발자가 서로 소통하고, 지식과 경험을 공유하는 플랫폼입니다.\n",
      "\n",
      "이러한 제품과 도구를 통해 LangChain은 개발자와 기업이 AI 기술을 보다 쉽고 효율적으로 활용할 수 있도록 지원하고 있습니다.\n"
     ]
    }
   ],
   "source": [
    "# chain 호출\n",
    "try:\n",
    "    result = chain2.invoke({\"input\": \": LangChain의 Products(제품)는 어떤 것들이 있나요? 예를 들어 LangSmith, LangServe 같은 Product가 있어\"})\n",
    "    print(type(result))\n",
    "    print(result)\n",
    "except Exception as e:\n",
    "    print(f\"오류 발생: {e}\")"
   ]
  },
  {
   "cell_type": "markdown",
   "id": "2ed6c0a8",
   "metadata": {},
   "source": [
    "Runnable의 stream() 함수 호출  \n",
    "\n",
    "스트리밍 출력을 위한 요청"
   ]
  },
  {
   "cell_type": "code",
   "execution_count": 28,
   "id": "faa5746a",
   "metadata": {},
   "outputs": [
    {
     "name": "stdout",
     "output_type": "stream",
     "text": [
      "인공지능 모델의 학습 원리를 쉽게 설명해 드리겠습니다.\n",
      "\n",
      "인공지능 모델의 학습 원리는 사람의 뇌가 학습하는 원리와 유사합니다. 사람은 경험을 통해 학습하고, 인공지능 모델도 데이터를 통해 학습합니다.\n",
      "\n",
      "**인공지능 모델 학습 과정**\n",
      "\n",
      "1. **데이터 수집**: 인공지능 모델을 학습시키기 위해 필요한 데이터를 수집합니다. 이 데이터는 문제에 대한 답을 포함하고 있어야 합니다.\n",
      "2. **데이터 전처리**: 수집한 데이터를 깨끗하게 정리하고, 필요한 경우 데이터를 변환하거나 가공합니다.\n",
      "3. **모델 초기화**: 인공지능 모델을 초기화합니다. 모델은 신경망 구조로 구성되어 있으며, 가중치와 편향이 무작위로 설정됩니다.\n",
      "4. **순전파**: 입력 데이터를 모델에 넣고, 출력값을 계산합니다. 이 과정은 입력 데이터를 통해 모델이 예측하는 과정입니다.\n",
      "5. **오차 계산**: 예측한 출력값과 실제 출력값(데이터에 포함된 답) 사이의 오차를 계산합니다.\n",
      "6. **역전파**: 오차를 역으로 계산하여, 모델의 가중치와 편향을 업데이트합니다. 이 과정은 모델이 학습하는 과정입니다.\n",
      "7. **최적화**: 가중치와 편향을 업데이트하여, 오차를 최소화합니다.\n",
      "\n",
      "**학습의 핵심**\n",
      "\n",
      "인공지능 모델의 학습은 가중치와 편향을 업데이트하는 과정입니다. 이 과정은 반복적으로 수행되며, 모델은 데이터를 통해 학습합니다.\n",
      "\n",
      "* **가중치 업데이트**: 가중치는 입력 데이터와 출력값 사이의 관계를 나타냅니다. 가중치를 업데이트함으로써, 모델은 입력 데이터와 출력값 사이의 관계를 더 잘 이해하게 됩니다.\n",
      "* **편향 업데이트**: 편향은 출력값의 평균을 나타냅니다. 편향을 업데이트함으로써, 모델은 출력값의 평균을 더 잘 예측하게 됩니다.\n",
      "\n",
      "**학습의 종료**\n",
      "\n",
      "인공지능 모델의 학습은 오차가 일정 수준 이하로 떨어질 때까지 수행됩니다. 오차가 일정 수준 이하로 떨어지면, 모델은 학습을 완료한 상태입니다.\n",
      "\n",
      "이렇게 인공지능 모델은 데이터를 통해 학습하고, 가중치와 편향을 업데이트하여 문제를 해결하는 능력을 향상시킵니다."
     ]
    }
   ],
   "source": [
    "# 스트리밍 출력을 위한 요청\n",
    "try:\n",
    "    answer = chain2.stream({\"input\": \"인공지능 모델의 학습 원리를 자세하게 설명해 주세요.\"})\n",
    "    \n",
    "    # 스트리밍 출력\n",
    "    #print(answer)\n",
    "    for token in answer:\n",
    "        # 스트림에서 받은 데이터의 내용을 출력합니다. 줄바꿈 없이 이어서 출력하고, 버퍼를 즉시 비웁니다.\n",
    "        print(token, end=\"\", flush=True)\n",
    "except Exception as e:\n",
    "    print(f\"오류 발생: {e}\")"
   ]
  },
  {
   "cell_type": "markdown",
   "id": "3d10240d",
   "metadata": {},
   "source": [
    "##Multi Chain\n",
    "**첫번째 Chain의 출력이, 두번째 Chain의 입력이 된다.**\n",
    "**두개의 Chain과 Prompt + OutputParser를 LCEL로 연결하기**"
   ]
  },
  {
   "cell_type": "code",
   "execution_count": 29,
   "id": "7a42ea62",
   "metadata": {},
   "outputs": [],
   "source": [
    "from langchain_core.prompts import ChatPromptTemplate\n",
    "from langchain_openai import ChatOpenAI\n",
    "from langchain_core.output_parsers import StrOutputParser\n",
    "\n",
    "# Step 1: 사용자가 입력한 장르에 따라 영화 추천\n",
    "prompt1 = ChatPromptTemplate.from_template(\"{genre} 장르에서 추천할 만한 영화를 한 편 알려주세요.\")\n",
    "\n",
    "# Step 2: 추천된 영화의 줄거리를 요약\n",
    "prompt2 = ChatPromptTemplate.from_template(\"{movie} 추전한 영화의 제목을 먼저 알려주시고, 줄을 바꾸어서 영화의 줄거리를 3문장으로 요약해 주세요.\")\n",
    "\n",
    "# OpenAI 모델 사용\n",
    "llm = ChatOpenAI(\n",
    "    #api_key=OPENAI_API_KEY,\n",
    "    base_url=\"https://api.groq.com/openai/v1\",  # Groq API 엔드포인트\n",
    "    model=\"meta-llama/llama-4-scout-17b-16e-instruct\",\n",
    "    temperature=0.7\n",
    ")\n",
    "\n",
    "# 체인 1: 영화 추천 (입력: 장르 → 출력: 영화 제목)\n",
    "chain1 = prompt1 | llm | StrOutputParser()"
   ]
  },
  {
   "cell_type": "code",
   "execution_count": 31,
   "id": "f08e764b",
   "metadata": {},
   "outputs": [
    {
     "name": "stdout",
     "output_type": "stream",
     "text": [
      "영화의 제목은 **\"부산행\"** 입니다.\n",
      "\n",
      "영화 \"부산행\"은 서울역에서 출발하여 부산역으로 향하는 열차 안에서 좀비 바이러스가 확산되는 상황에서 벌어지는 이야기입니다. 이 영화는 긴박한 상황과 감동적인 연출로 많은 관객들에게 인상을 남겼으며, 주연 배우들의 열연과 긴박한 액션 장면이 인상 깊습니다. 영화는 현실적이고 긴박한 배경과 설정으로 관객들에게 현실적인 상황에서의 생존을 생각하게 합니다.\n"
     ]
    }
   ],
   "source": [
    "# 체인 2: 줄거리 요약 (입력: 영화 제목 → 출력: 줄거리)\n",
    "try:\n",
    "    chain2 = (\n",
    "        {\"movie\": chain1}  # chain1의 출력을 movie 입력 변수로 전달\n",
    "        | prompt2\n",
    "        | llm\n",
    "        | StrOutputParser()\n",
    "    )\n",
    "\n",
    "    # 실행: \"SF\" 장르의 영화 추천 및 줄거리 요약\n",
    "    response = chain2.invoke({\"genre\": \"한국영화액션\"})\n",
    "    print(response)  \n",
    "except Exception as e:\n",
    "    print(f\"오류 발생: {e}\")"
   ]
  }
 ],
 "metadata": {
  "kernelspec": {
   "display_name": "langchain-basic-AGfTwH54-py3.12",
   "language": "python",
   "name": "python3"
  },
  "language_info": {
   "codemirror_mode": {
    "name": "ipython",
    "version": 3
   },
   "file_extension": ".py",
   "mimetype": "text/x-python",
   "name": "python",
   "nbconvert_exporter": "python",
   "pygments_lexer": "ipython3",
   "version": "3.12.7"
  }
 },
 "nbformat": 4,
 "nbformat_minor": 5
}
