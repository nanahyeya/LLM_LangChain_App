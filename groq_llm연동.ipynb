{
 "cells": [
  {
   "cell_type": "code",
   "execution_count": 1,
   "id": "ab9a673e",
   "metadata": {},
   "outputs": [
    {
     "name": "stdout",
     "output_type": "stream",
     "text": [
      "Hello LangChain\n"
     ]
    }
   ],
   "source": [
    "print('Hello LangChain')"
   ]
  },
  {
   "cell_type": "code",
   "execution_count": 2,
   "id": "981e738c",
   "metadata": {},
   "outputs": [],
   "source": [
    "import os\n",
    "from dotenv import load_dotenv\n",
    "from langchain_core.prompts import ChatPromptTemplate\n",
    "from langchain_openai import ChatOpenAI \n",
    "\n",
    "\n",
    "load_dotenv()\n",
    "OPENAI_API_KEY = os.getenv(\"OPENAI_API_KEY\")\n",
    "# print(OPENAI_API_KEY)"
   ]
  },
  {
   "cell_type": "code",
   "execution_count": 3,
   "id": "3f6aad7a",
   "metadata": {},
   "outputs": [
    {
     "name": "stdout",
     "output_type": "stream",
     "text": [
      "input_variables=['input'] input_types={} partial_variables={} messages=[SystemMessagePromptTemplate(prompt=PromptTemplate(input_variables=[], input_types={}, partial_variables={}, template='당신은 개발자입니다.'), additional_kwargs={}), HumanMessagePromptTemplate(prompt=PromptTemplate(input_variables=['input'], input_types={}, partial_variables={}, template='{input}'), additional_kwargs={})]\n"
     ]
    }
   ],
   "source": [
    "# prompt\n",
    "prompt = ChatPromptTemplate.from_messages(\n",
    "    [ (\"system\", \"당신은 개발자입니다.\") , \n",
    "     (\"user\", \"{input}\") ]\n",
    ")\n",
    "print(prompt)\n",
    "\n",
    "prompt_text = prompt.format(input=\"파이썬은 무엇인가요? 자세하게 설명해주세요\")"
   ]
  },
  {
   "cell_type": "code",
   "execution_count": 4,
   "id": "e15336d3",
   "metadata": {},
   "outputs": [
    {
     "name": "stdout",
     "output_type": "stream",
     "text": [
      "client=<openai.resources.chat.completions.completions.Completions object at 0x000001DDD0B180B0> async_client=<openai.resources.chat.completions.completions.AsyncCompletions object at 0x000001DDD0EEB890> root_client=<openai.OpenAI object at 0x000001DDD08C55E0> root_async_client=<openai.AsyncOpenAI object at 0x000001DDD0C50680> model_name='meta-llama/llama-4-scout-17b-16e-instruct' temperature=0.7 model_kwargs={} openai_api_key=SecretStr('**********') openai_api_base='https://api.groq.com/openai/v1'\n"
     ]
    }
   ],
   "source": [
    "# Groq API를 사용하는 ChatOpenAI 인스턴스 생성\n",
    "llm = ChatOpenAI(\n",
    "    api_key=OPENAI_API_KEY,\n",
    "    base_url=\"https://api.groq.com/openai/v1\",  # Groq API 엔드포인트\n",
    "    model=\"meta-llama/llama-4-scout-17b-16e-instruct\",\n",
    "    temperature=0.7\n",
    ")\n",
    "print(llm)"
   ]
  },
  {
   "cell_type": "code",
   "execution_count": 5,
   "id": "dd9097ea",
   "metadata": {},
   "outputs": [
    {
     "name": "stdout",
     "output_type": "stream",
     "text": [
      "<class 'langchain_core.messages.ai.AIMessage'>\n",
      "<class 'str'>\n",
      "응답: 파이썬! 프로그래밍 세계에서 매우 인기 있는 언어입니다. 파이썬은 1991년에 네덜란드계 프로그래머인 귀도 반 로섬(Guido van Rossum)에 의해 개발된 고수준 프로그래밍 언어입니다.\n",
      "\n",
      "**파이썬의 특징**\n",
      "\n",
      "1. **쉬운 학습 곡선**: 파이썬은 매우 직관적이고 간단한 문법을 가지고 있어, 프로그래밍 초보자들이 쉽게 배울 수 있습니다.\n",
      "2. **고수준 언어**: 파이썬은 하드웨어와 소프트웨어의 세부 사항에 대해 걱정하지 않고도 프로그래밍할 수 있는 고수준 언어입니다.\n",
      "3. **객체 지향**: 파이썬은 객체 지향 프로그래밍(OOP) 개념을 지원합니다. 즉, 객체를 사용하여 데이터를 캡슐화하고 메서드를 정의할 수 있습니다.\n",
      "4. **동적 타이핑**: 파이썬은 동적 타이핑 언어입니다. 즉, 변수의 타입을 미리 선언할 필요가 없습니다.\n",
      "5. **대규모 라이브러리**: 파이썬은 방대한 라이브러리와 모듈을 보유하고 있습니다. 이를 통해 개발자는 다양한 작업을 쉽게 수행할 수 있습니다.\n",
      "\n",
      "**파이썬의 용도**\n",
      "\n",
      "1. **웹 개발**: 파이썬은 웹 개발에 널리 사용됩니다. Flask, Django와 같은 웹 프레임워크를 사용하여 웹 애플리케이션을 구축할 수 있습니다.\n",
      "2. **데이터 과학**: 파이썬은 데이터 과학과 머신러닝에 매우 인기가 있습니다. NumPy, pandas, scikit-learn과 같은 라이브러리를 사용하여 데이터를 분석하고 모델을 구축할 수 있습니다.\n",
      "3. **스크립팅**: 파이썬은 스크립팅에 적합한 언어입니다. 간단한 스크립트를 작성하여 작업을 자동화할 수 있습니다.\n",
      "4. **게임 개발**: 파이썬은 게임 개발에도 사용됩니다. Pygame와 같은 라이브러리를 사용하여 게임을 구축할 수 있습니다.\n",
      "\n",
      "**파이썬의 장점**\n",
      "\n",
      "1. **생산성**: 파이썬은 개발 속도가 빠릅니다. 간단한 문법과 방대한 라이브러리로 인해 빠르게 개발할 수 있습니다.\n",
      "2. **커뮤니티**: 파이썬은 큰 커뮤니티를 보유하고 있습니다. 따라서 문제가 발생하면 쉽게 도움을 받을 수 있습니다.\n",
      "3. **크로스 플랫폼**: 파이썬은 다양한 플랫폼에서 실행할 수 있습니다. Windows, macOS, Linux 등 다양한 운영체제에서 실행할 수 있습니다.\n",
      "\n",
      "**파이썬의 단점**\n",
      "\n",
      "1. **성능**: 파이썬은 다른 언어에 비해 성능이 느릴 수 있습니다.\n",
      "2. **제한된 멀티쓰레딩**: 파이썬은 멀티쓰레딩에 제한이 있습니다. 이로 인해 병렬 처리가 어려울 수 있습니다.\n",
      "\n",
      "파이썬은 쉽고 강력한 프로그래밍 언어입니다. 방대한 라이브러리와 모듈, 그리고 큰 커뮤니티로 인해 다양한 분야에서 널리 사용됩니다.\n"
     ]
    }
   ],
   "source": [
    "try:\n",
    "    response = llm.invoke(prompt_text)\n",
    "    print(type(response))\n",
    "    print(type(response.content))\n",
    "    print(\"응답:\", response.content)\n",
    "except Exception as e:\n",
    "    print(f\"오류 발생: {e}\")"
   ]
  }
 ],
 "metadata": {
  "kernelspec": {
   "display_name": "langchain-basic-AGfTwH54-py3.12",
   "language": "python",
   "name": "python3"
  },
  "language_info": {
   "codemirror_mode": {
    "name": "ipython",
    "version": 3
   },
   "file_extension": ".py",
   "mimetype": "text/x-python",
   "name": "python",
   "nbconvert_exporter": "python",
   "pygments_lexer": "ipython3",
   "version": "3.12.7"
  }
 },
 "nbformat": 4,
 "nbformat_minor": 5
}
