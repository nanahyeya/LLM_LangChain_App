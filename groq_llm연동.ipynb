{
 "cells": [
  {
   "cell_type": "code",
   "execution_count": 4,
   "id": "ab9a673e",
   "metadata": {},
   "outputs": [
    {
     "name": "stdout",
     "output_type": "stream",
     "text": [
      "Hello LangChain\n"
     ]
    }
   ],
   "source": [
    "print('Hello LangChain')"
   ]
  },
  {
   "cell_type": "code",
   "execution_count": 5,
   "id": "981e738c",
   "metadata": {},
   "outputs": [],
   "source": [
    "import os\n",
    "from dotenv import load_dotenv\n",
    "from langchain_core.prompts import ChatPromptTemplate\n",
    "from langchain_openai import ChatOpenAI \n",
    "\n",
    "\n",
    "load_dotenv()\n",
    "OPENAI_API_KEY = os.getenv(\"OPENAI_API_KEY\")\n",
    "# print(OPENAI_API_KEY)"
   ]
  },
  {
   "cell_type": "code",
   "execution_count": 6,
   "id": "3f6aad7a",
   "metadata": {},
   "outputs": [
    {
     "name": "stdout",
     "output_type": "stream",
     "text": [
      "input_variables=['input'] input_types={} partial_variables={} messages=[SystemMessagePromptTemplate(prompt=PromptTemplate(input_variables=[], input_types={}, partial_variables={}, template='당신은 개발자입니다.'), additional_kwargs={}), HumanMessagePromptTemplate(prompt=PromptTemplate(input_variables=['input'], input_types={}, partial_variables={}, template='{input}'), additional_kwargs={})]\n"
     ]
    }
   ],
   "source": [
    "# prompt\n",
    "prompt = ChatPromptTemplate.from_messages(\n",
    "    [ (\"system\", \"당신은 개발자입니다.\") , \n",
    "     (\"user\", \"{input}\") ]\n",
    ")\n",
    "print(prompt)\n",
    "\n",
    "prompt_text = prompt.format(input=\"파이썬은 무엇인가요? 자세하게 설명해주세요\")"
   ]
  },
  {
   "cell_type": "code",
   "execution_count": 7,
   "id": "e15336d3",
   "metadata": {},
   "outputs": [
    {
     "name": "stdout",
     "output_type": "stream",
     "text": [
      "client=<openai.resources.chat.completions.completions.Completions object at 0x000002489C36FA70> async_client=<openai.resources.chat.completions.completions.AsyncCompletions object at 0x000002489C847EC0> root_client=<openai.OpenAI object at 0x000002489A10C2F0> root_async_client=<openai.AsyncOpenAI object at 0x000002489C455E20> model_name='meta-llama/llama-4-scout-17b-16e-instruct' temperature=0.7 model_kwargs={} openai_api_key=SecretStr('**********') openai_api_base='https://api.groq.com/openai/v1'\n"
     ]
    }
   ],
   "source": [
    "# Groq API를 사용하는 ChatOpenAI 인스턴스 생성\n",
    "llm = ChatOpenAI(\n",
    "    api_key=OPENAI_API_KEY,\n",
    "    base_url=\"https://api.groq.com/openai/v1\",  # Groq API 엔드포인트\n",
    "    model=\"meta-llama/llama-4-scout-17b-16e-instruct\",\n",
    "    temperature=0.7\n",
    ")\n",
    "print(llm)"
   ]
  },
  {
   "cell_type": "code",
   "execution_count": 8,
   "id": "dd9097ea",
   "metadata": {},
   "outputs": [
    {
     "name": "stdout",
     "output_type": "stream",
     "text": [
      "<class 'langchain_core.messages.ai.AIMessage'>\n",
      "<class 'str'>\n",
      "응답: 파이썬! 프로그래밍 세계에서 매우 인기 있는 언어입니다. 저는 개발자로서 파이썬에 대해 자세히 설명해 드리겠습니다.\n",
      "\n",
      "**파이썬이란?**\n",
      "\n",
      "파이썬은 1991년 Guido van Rossum에 의해 개발된 고수준 프로그래밍 언어입니다. 파이썬은 동적 타이핑(dynamic typing) 언어이며, 객체 지향 프로그래밍(OOP) 패러다임을 따릅니다. 파이썬의 디자인 철학은 코드 가독성과 간결성을 강조하며, 개발자가 빠르게 프로그램을 작성하고 테스트할 수 있도록 돕습니다.\n",
      "\n",
      "**파이썬의 특징**\n",
      "\n",
      "파이썬의 주요 특징은 다음과 같습니다.\n",
      "\n",
      "1. **쉬운 학습 곡선**: 파이썬은 간단하고 직관적인 문법을 가지고 있어, 프로그래밍을 처음 시작하는 사람들도 쉽게 배울 수 있습니다.\n",
      "2. **고수준 언어**: 파이썬은 하드웨어와 운영 체제 레벨의 복잡성을 추상화하여, 개발자가 비즈니스 로직에 집중할 수 있도록 합니다.\n",
      "3. **동적 타이핑**: 파이썬은 변수의 타입을 선언할 필요가 없으며, 실행 시에 타입이 결정됩니다.\n",
      "4. **객체 지향 프로그래밍**: 파이썬은 OOP 패러다임을 지원하며, 클래스, 객체, 상속, 다형성 등의 개념을 포함합니다.\n",
      "5. **대규모 라이브러리**: 파이썬은 방대한 라이브러리와 모듈을 보유하고 있어, 다양한 분야에서 활용할 수 있습니다.\n",
      "\n",
      "**파이썬의 활용 분야**\n",
      "\n",
      "파이썬은 다양한 분야에서 사용됩니다.\n",
      "\n",
      "1. **웹 개발**: 파이썬은 웹 개발을 위해 Flask, Django 등의 프레임워크를 제공합니다.\n",
      "2. **데이터 과학**: 파이썬은 데이터 과학을 위해 NumPy, pandas, scikit-learn 등의 라이브러리를 제공합니다.\n",
      "3. **인공지능**: 파이썬은 인공지능을 위해 TensorFlow, Keras 등의 라이브러리를 제공합니다.\n",
      "4. **자동화**: 파이썬은 자동화를 위해 Robot Framework 등의 라이브러리를 제공합니다.\n",
      "5. **교육**: 파이썬은 교육 기관에서 프로그래밍 입문 언어로 널리 사용됩니다.\n",
      "\n",
      "**파이썬의 버전**\n",
      "\n",
      "파이썬은 두 가지 주요 버전으로 나뉩니다.\n",
      "\n",
      "1. **파이썬 2.x**: 2000년에 출시된 파이썬 2.x는 2015년에 지원이 중단되었습니다.\n",
      "2. **파이썬 3.x**: 2008년에 출시된 파이썬 3.x는 현재 가장 최신의 버전이며, 활발하게 지원되고 있습니다.\n",
      "\n",
      "**결론**\n",
      "\n",
      "파이썬은 쉽고 강력한 프로그래밍 언어입니다. 파이썬은 다양한 분야에서 활용되며, 개발자가 빠르게 프로그램을 작성하고 테스트할 수 있도록 돕습니다. 파이썬은 교육 기관에서 프로그래밍 입문 언어로 널리 사용되며, 개발자들 사이에서 인기가 있습니다.\n"
     ]
    }
   ],
   "source": [
    "try:\n",
    "    response = llm.invoke(prompt_text)\n",
    "    print(type(response))\n",
    "    print(type(response.content))\n",
    "    print(\"응답:\", response.content)\n",
    "except Exception as e:\n",
    "    print(f\"오류 발생: {e}\")"
   ]
  },
  {
   "cell_type": "markdown",
   "id": "20be6835",
   "metadata": {},
   "source": [
    "LCEL\n",
    "Prompt + LLM을 Chain으로 연결하기"
   ]
  },
  {
   "cell_type": "code",
   "execution_count": 9,
   "id": "e0e483ac",
   "metadata": {},
   "outputs": [
    {
     "data": {
      "text/plain": [
       "PromptTemplate(input_variables=['input'], input_types={}, partial_variables={}, template='\\n    You are an expert in AI Expert. Answer the question. \\n    <Question>: {input}에 대해 쉽게 설명해주세요.\")\\n    ')"
      ]
     },
     "execution_count": 9,
     "metadata": {},
     "output_type": "execute_result"
    }
   ],
   "source": [
    "from langchain_core.prompts import PromptTemplate\n",
    "\n",
    "prompt = PromptTemplate.from_template(\n",
    "    \"\"\"\n",
    "    You are an expert in AI Expert. Answer the question. \n",
    "    <Question>: {input}에 대해 쉽게 설명해주세요.\")\n",
    "    \"\"\")                                     \n",
    "prompt"
   ]
  },
  {
   "cell_type": "code",
   "execution_count": 10,
   "id": "918cd610",
   "metadata": {},
   "outputs": [
    {
     "name": "stdout",
     "output_type": "stream",
     "text": [
      "<class 'langchain_core.runnables.base.RunnableSequence'>\n"
     ]
    }
   ],
   "source": [
    "# chain 연결 (LCEL)\n",
    "chain = prompt | llm\n",
    "print(type(chain))"
   ]
  },
  {
   "cell_type": "code",
   "execution_count": 11,
   "id": "ffa763d0",
   "metadata": {},
   "outputs": [
    {
     "name": "stdout",
     "output_type": "stream",
     "text": [
      "<class 'langchain_core.messages.ai.AIMessage'>\n",
      "인공지능 모델의 학습 원리는 사람의 뇌가 학습하는 방식과 유사합니다. \n",
      "\n",
      "기본적으로 인공지능 모델은 주어진 데이터를 통해 스스로 규칙을 찾아내고, 이를 통해 미래의 새로운 데이터에 대해 예측하거나 분류하는 법을 배웁니다.\n",
      "\n",
      "예를 들어, 고양이와 강아지의 사진을 분류하는 모델을 만든다고 가정해 보겠습니다.\n",
      "\n",
      "1. **데이터 수집**: 많은 고양이와 강아지의 사진을 수집합니다. 이 사진들은 모델이 학습하는데 필요한 재료와 같습니다.\n",
      "\n",
      "2. **데이터 전처리**: 수집한 사진들을 모델이 처리하기 쉽게 변환하는 과정을 거칩니다. 이 과정은 재료들을 깨끗이 손질하는 것과 비슷합니다.\n",
      "\n",
      "3. **모델 설계**: 고양이와 강아지를 구분할 수 있는 규칙을 스스로 만들 수 있는 인공지능 모델을 설계합니다. 이 모델은 주어진 사진에서 특징을 추출하고, 그 특징들을 바탕으로 고양이인지 강아지인지를 결정합니다.\n",
      "\n",
      "4. **학습**: 모델에 고양이와 강아지의 사진을 보여주고, 이것이 고양이인지 강아지인지를 알려줍니다. 처음에는 모델이 많은 실수를 하지만, 계속해서 사진을 보여주고 실제 답을 알려주면 모델은 점점 더 잘하게 됩니다. 이는 모델이 사진의 특징들(예: 고양이는 눈이 크고, 강아지는 귀가 쳐져있다 등)을 분석하여 고양이와 강아지를 구분하는 규칙을 스스로 만들어내기 때문입니다.\n",
      "\n",
      "5. **평가**: 학습이 끝난 후, 새로운 고양이와 강아지의 사진을 모델에 보여주고 얼마나 정확하게 분류하는지 평가합니다. 만약 모델이 새로운 사진들을 잘 분류하지 못한다면, 더 많은 데이터를 수집하거나 모델의 구조를 개선하는 등 추가적인 작업을 진행합니다.\n",
      "\n",
      "6. **사용**: 최종적으로 모델을 사용하여 실제 세계에서 고양이와 강아지를 식별합니다. 이 모델은 지속적으로 더 많은 데이터를 학습함에 따라 점점 더 정확해질 수 있습니다.\n",
      "\n",
      "이처럼 인공지능 모델은 주어진 데이터를 통해 학습하고, 그 학습을 통해 새로운 데이터에 대해 예측하거나 분류하는 능력을 키웁니다. 이러한 원리는 다양한 인공지능 응용 분야에서 사용됩니다.\n"
     ]
    }
   ],
   "source": [
    "# chain 호출\n",
    "try:\n",
    "    result = chain.invoke({\"input\": \"인공지능 모델의 학습 원리\"})\n",
    "    print(type(result))\n",
    "    print(result.content)\n",
    "except Exception as e:\n",
    "    print(f\"오류 발생: {e}\")"
   ]
  }
 ],
 "metadata": {
  "kernelspec": {
   "display_name": "langchain-basic-AGfTwH54-py3.12",
   "language": "python",
   "name": "python3"
  },
  "language_info": {
   "codemirror_mode": {
    "name": "ipython",
    "version": 3
   },
   "file_extension": ".py",
   "mimetype": "text/x-python",
   "name": "python",
   "nbconvert_exporter": "python",
   "pygments_lexer": "ipython3",
   "version": "3.12.7"
  }
 },
 "nbformat": 4,
 "nbformat_minor": 5
}
